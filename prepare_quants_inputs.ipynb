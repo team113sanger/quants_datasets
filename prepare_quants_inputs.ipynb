{
 "cells": [
  {
   "cell_type": "markdown",
   "id": "a95506c3-28a7-4c4c-9e24-89d7d72cf91f",
   "metadata": {},
   "source": [
    "# Preparing the example dataset for use with QUANTS\n",
    "\n",
    "Our example dataset is raw counts from the BRCA1 saturation genome editing (SGE) experiment by Findlay *et al.*. \n",
    "\n",
    "> Findlay, G.M., Daza, R.M., Martin, B. *et al.*   \n",
    "> **Accurate classification of BRCA1 variants with saturation genome editing.**  \n",
    "> *Nature 562, 217–222 (2018).*   \n",
    "> [https://doi.org/10.1038/s41586-018-0461-z](https://doi.org/10.1038/s41586-018-0461-z)\n",
    "\n",
    "For this example we will be quantifying multiple samples which correspond to BRCA1 exon 2:\n",
    "\n",
    "* plasmid\n",
    "* negative control\n",
    "* day 5 (2 replicates)\n",
    "* day 11 (2 replicates)\n",
    "\n",
    "***"
   ]
  },
  {
   "cell_type": "markdown",
   "id": "e89d35f8-d7db-441f-8a5f-c8766f805769",
   "metadata": {},
   "source": [
    "## Loading R library dependencies\n",
    "\n",
    "Before we start, we need to load R library dependencies. These are only required for this example, they are not a dependency of QUANTS."
   ]
  },
  {
   "cell_type": "code",
   "execution_count": 1,
   "id": "3b334c76-cccd-4b99-b60e-cb4d557015b4",
   "metadata": {},
   "outputs": [
    {
     "name": "stderr",
     "output_type": "stream",
     "text": [
      "── \u001b[1mAttaching packages\u001b[22m ─────────────────────────────────────── tidyverse 1.3.1 ──\n",
      "\n",
      "\u001b[32m✔\u001b[39m \u001b[34mggplot2\u001b[39m 3.3.5     \u001b[32m✔\u001b[39m \u001b[34mpurrr  \u001b[39m 0.3.4\n",
      "\u001b[32m✔\u001b[39m \u001b[34mtibble \u001b[39m 3.1.6     \u001b[32m✔\u001b[39m \u001b[34mdplyr  \u001b[39m 1.0.7\n",
      "\u001b[32m✔\u001b[39m \u001b[34mtidyr  \u001b[39m 1.2.0     \u001b[32m✔\u001b[39m \u001b[34mstringr\u001b[39m 1.4.0\n",
      "\u001b[32m✔\u001b[39m \u001b[34mreadr  \u001b[39m 2.1.2     \u001b[32m✔\u001b[39m \u001b[34mforcats\u001b[39m 0.5.1\n",
      "\n",
      "── \u001b[1mConflicts\u001b[22m ────────────────────────────────────────── tidyverse_conflicts() ──\n",
      "\u001b[31m✖\u001b[39m \u001b[34mdplyr\u001b[39m::\u001b[32mfilter()\u001b[39m masks \u001b[34mstats\u001b[39m::filter()\n",
      "\u001b[31m✖\u001b[39m \u001b[34mdplyr\u001b[39m::\u001b[32mlag()\u001b[39m    masks \u001b[34mstats\u001b[39m::lag()\n",
      "\n"
     ]
    }
   ],
   "source": [
    "library(tidyverse)\n",
    "library(readxl)"
   ]
  },
  {
   "cell_type": "markdown",
   "id": "f8030d1f-9705-465d-8cff-e3674e1e6cf2",
   "metadata": {},
   "source": [
    "***\n",
    "\n",
    "## Downloading raw sequencing data from Findlay screens\n",
    "\n",
    "To download the Findlay SRA FASTQs we used [SRA toolkit](https://ftp-trace.ncbi.nlm.nih.gov/sra/sdk/2.11.2/sratoolkit.2.11.2-ubuntu64.tar.gz) version 2.11.2 following the instructions [here](https://github.com/ncbi/sra-tools/wiki/01.-Downloading-SRA-Toolkit).\n",
    "\n",
    "Here we loop over the following SRA run ids from [PRJNA481326](https://www.ncbi.nlm.nih.gov/bioproject/PRJNA481326) which correspond to BRCA1 exon 2 day 5 and day 11 samples, plasmid library and negative control:\n",
    "\n",
    "* **SRR7525820** - X2-lib (library)  \n",
    "* **SRR7525821** - X2-neg (negative control)  \n",
    "* **SRR7525822** - X2rL41-post (Day 11 gDNA sample)  \n",
    "* **SRR7525823** - X2rL41-pre (Day 5 gDNA sample)  \n",
    "* **SRR7525825** - X2rL42-post (Day 11 gDNA sample)  \n",
    "* **SRR7525826** - X2rL42-pre (Day 5 gDNA sample)  "
   ]
  },
  {
   "cell_type": "code",
   "execution_count": 2,
   "id": "140f62f1-fa51-4794-a0d4-a49cee758edc",
   "metadata": {},
   "outputs": [
    {
     "name": "stdout",
     "output_type": "stream",
     "text": [
      "[1] \"fastq-dump --split-files --gzip --outdir example_input/fastq --defline-seq '@$ac.$si.$sg/$ri' --defline-qual '+' SRR7525820\"\n",
      "[1] \"fastq-dump --split-files --gzip --outdir example_input/fastq --defline-seq '@$ac.$si.$sg/$ri' --defline-qual '+' SRR7525821\"\n",
      "[1] \"fastq-dump --split-files --gzip --outdir example_input/fastq --defline-seq '@$ac.$si.$sg/$ri' --defline-qual '+' SRR7525822\"\n",
      "[1] \"fastq-dump --split-files --gzip --outdir example_input/fastq --defline-seq '@$ac.$si.$sg/$ri' --defline-qual '+' SRR7525823\"\n",
      "[1] \"fastq-dump --split-files --gzip --outdir example_input/fastq --defline-seq '@$ac.$si.$sg/$ri' --defline-qual '+' SRR7525825\"\n",
      "[1] \"fastq-dump --split-files --gzip --outdir example_input/fastq --defline-seq '@$ac.$si.$sg/$ri' --defline-qual '+' SRR7525826\"\n"
     ]
    }
   ],
   "source": [
    "for (run in c('SRR7525820', 'SRR7525821', 'SRR7525822', 'SRR7525823', 'SRR7525825', 'SRR7525826'))  {\n",
    "    fastq_dump_cmd <- paste(\"fastq-dump --split-files --gzip --outdir example_input/fastq --defline-seq '@$ac.$si.$sg/$ri' --defline-qual '+'\", run)\n",
    "    print(fastq_dump_cmd)\n",
    "    if (!file.exists(paste0('example_input/fastq/', run, '_1.fastq.gz')) || !file.exists(paste0('example_input/fastq/', run, '_2.fastq.gz'))) {\n",
    "        system(fastq_dump_cmd)   \n",
    "    }\n",
    "}"
   ]
  },
  {
   "cell_type": "markdown",
   "id": "1bdbc80e-0f2d-4d25-b0bd-4c8a05bc11b5",
   "metadata": {},
   "source": [
    "***"
   ]
  },
  {
   "cell_type": "markdown",
   "id": "d85bd61b-4e78-4723-966c-d4d3a05b54cc",
   "metadata": {},
   "source": [
    "## Downloading Findlay et al. raw counts \n",
    "\n",
    "Raw counts, functional scores and annotations from the BRCA1 SGE experiments can be found in [Supplementary Table 1](https://static-content.springer.com/esm/art%3A10.1038%2Fs41586-018-0461-z/MediaObjects/41586_2018_461_MOESM3_ESM.xlsx). "
   ]
  },
  {
   "cell_type": "code",
   "execution_count": 3,
   "id": "1a619bf8-149b-4774-b1c4-2f4f80e22991",
   "metadata": {},
   "outputs": [
    {
     "data": {
      "text/html": [
       "<table class=\"dataframe\">\n",
       "<caption>A tibble: 6 × 62</caption>\n",
       "<thead>\n",
       "\t<tr><th scope=col>gene</th><th scope=col>chromosome</th><th scope=col>position (hg19)</th><th scope=col>reference</th><th scope=col>alt</th><th scope=col>transcript_ID</th><th scope=col>transcript_position</th><th scope=col>transcript_ref</th><th scope=col>transcript_alt</th><th scope=col>transcript_variant</th><th scope=col>⋯</th><th scope=col>aGVGD.diff</th><th scope=col>aGVGD.class</th><th scope=col>clinvar</th><th scope=col>clinvar_simple</th><th scope=col>gnomAD_AF</th><th scope=col>bravo_AF</th><th scope=col>flossies_AF</th><th scope=col>WT.HAP1.function.score.r1</th><th scope=col>WT.HAP1.function.score.r2</th><th scope=col>WT.HAP1.function.score.mean</th></tr>\n",
       "\t<tr><th scope=col>&lt;chr&gt;</th><th scope=col>&lt;dbl&gt;</th><th scope=col>&lt;dbl&gt;</th><th scope=col>&lt;chr&gt;</th><th scope=col>&lt;chr&gt;</th><th scope=col>&lt;chr&gt;</th><th scope=col>&lt;chr&gt;</th><th scope=col>&lt;chr&gt;</th><th scope=col>&lt;chr&gt;</th><th scope=col>&lt;chr&gt;</th><th scope=col>⋯</th><th scope=col>&lt;chr&gt;</th><th scope=col>&lt;chr&gt;</th><th scope=col>&lt;chr&gt;</th><th scope=col>&lt;chr&gt;</th><th scope=col>&lt;dbl&gt;</th><th scope=col>&lt;dbl&gt;</th><th scope=col>&lt;dbl&gt;</th><th scope=col>&lt;chr&gt;</th><th scope=col>&lt;chr&gt;</th><th scope=col>&lt;chr&gt;</th></tr>\n",
       "</thead>\n",
       "<tbody>\n",
       "\t<tr><td>BRCA1</td><td>17</td><td>41276135</td><td>T</td><td>G</td><td>NM_007294.3</td><td>-19-3</td><td>A</td><td>C</td><td>c.-19-3A&gt;C</td><td>⋯</td><td>NA</td><td>NA</td><td><span style=white-space:pre-wrap>absent                                      </span></td><td><span style=white-space:pre-wrap>absent                                      </span></td><td>0.0000000</td><td>0.00000000</td><td>0</td><td>0.36944644087971701 </td><td><span style=white-space:pre-wrap>0.259903001034893     </span></td><td>0.31467472095730498 </td></tr>\n",
       "\t<tr><td>BRCA1</td><td>17</td><td>41276135</td><td>T</td><td>C</td><td>NM_007294.3</td><td>-19-3</td><td>A</td><td>G</td><td>c.-19-3A&gt;G</td><td>⋯</td><td>NA</td><td>NA</td><td>Conflicting interpretations of pathogenicity</td><td>Conflicting interpretations of pathogenicity</td><td>0.0001275</td><td>0.00016724</td><td>0</td><td>-0.33863672461542499</td><td><span style=white-space:pre-wrap>0.30135564822599198   </span></td><td>-1.86405381947163E-2</td></tr>\n",
       "\t<tr><td>BRCA1</td><td>17</td><td>41276135</td><td>T</td><td>A</td><td>NM_007294.3</td><td>-19-3</td><td>A</td><td>T</td><td>c.-19-3A&gt;T</td><td>⋯</td><td>NA</td><td>NA</td><td><span style=white-space:pre-wrap>absent                                      </span></td><td><span style=white-space:pre-wrap>absent                                      </span></td><td>0.0000000</td><td>0.00000000</td><td>0</td><td>-0.97517572868796798</td><td><span style=white-space:pre-wrap>-0.10121785206809     </span></td><td>-0.53819679037802803</td></tr>\n",
       "\t<tr><td>BRCA1</td><td>17</td><td>41276134</td><td>T</td><td>G</td><td>NM_007294.3</td><td>-19-2</td><td>A</td><td>C</td><td>c.-19-2A&gt;C</td><td>⋯</td><td>NA</td><td>NA</td><td><span style=white-space:pre-wrap>absent                                      </span></td><td><span style=white-space:pre-wrap>absent                                      </span></td><td>0.0000000</td><td>0.00000000</td><td>0</td><td><span style=white-space:pre-wrap>-1.76677702938779   </span></td><td><span style=white-space:pre-wrap>0.52989154772828595   </span></td><td>-0.61844274082975403</td></tr>\n",
       "\t<tr><td>BRCA1</td><td>17</td><td>41276134</td><td>T</td><td>C</td><td>NM_007294.3</td><td>-19-2</td><td>A</td><td>G</td><td>c.-19-2A&gt;G</td><td>⋯</td><td>NA</td><td>NA</td><td><span style=white-space:pre-wrap>Pathogenic                                  </span></td><td><span style=white-space:pre-wrap>Pathogenic                                  </span></td><td>0.0000000</td><td>0.00000000</td><td>0</td><td><span style=white-space:pre-wrap>NA                  </span></td><td><span style=white-space:pre-wrap>NA                    </span></td><td><span style=white-space:pre-wrap>NA                  </span></td></tr>\n",
       "\t<tr><td>BRCA1</td><td>17</td><td>41276134</td><td>T</td><td>A</td><td>NM_007294.3</td><td>-19-2</td><td>A</td><td>T</td><td>c.-19-2A&gt;T</td><td>⋯</td><td>NA</td><td>NA</td><td><span style=white-space:pre-wrap>absent                                      </span></td><td><span style=white-space:pre-wrap>absent                                      </span></td><td>0.0000000</td><td>0.00000000</td><td>0</td><td>0.74115354036225101 </td><td>-6.5988050752730204E-2</td><td>0.33758274480476003 </td></tr>\n",
       "</tbody>\n",
       "</table>\n"
      ],
      "text/latex": [
       "A tibble: 6 × 62\n",
       "\\begin{tabular}{lllllllllllllllllllll}\n",
       " gene & chromosome & position (hg19) & reference & alt & transcript\\_ID & transcript\\_position & transcript\\_ref & transcript\\_alt & transcript\\_variant & ⋯ & aGVGD.diff & aGVGD.class & clinvar & clinvar\\_simple & gnomAD\\_AF & bravo\\_AF & flossies\\_AF & WT.HAP1.function.score.r1 & WT.HAP1.function.score.r2 & WT.HAP1.function.score.mean\\\\\n",
       " <chr> & <dbl> & <dbl> & <chr> & <chr> & <chr> & <chr> & <chr> & <chr> & <chr> & ⋯ & <chr> & <chr> & <chr> & <chr> & <dbl> & <dbl> & <dbl> & <chr> & <chr> & <chr>\\\\\n",
       "\\hline\n",
       "\t BRCA1 & 17 & 41276135 & T & G & NM\\_007294.3 & -19-3 & A & C & c.-19-3A>C & ⋯ & NA & NA & absent                                       & absent                                       & 0.0000000 & 0.00000000 & 0 & 0.36944644087971701  & 0.259903001034893      & 0.31467472095730498 \\\\\n",
       "\t BRCA1 & 17 & 41276135 & T & C & NM\\_007294.3 & -19-3 & A & G & c.-19-3A>G & ⋯ & NA & NA & Conflicting interpretations of pathogenicity & Conflicting interpretations of pathogenicity & 0.0001275 & 0.00016724 & 0 & -0.33863672461542499 & 0.30135564822599198    & -1.86405381947163E-2\\\\\n",
       "\t BRCA1 & 17 & 41276135 & T & A & NM\\_007294.3 & -19-3 & A & T & c.-19-3A>T & ⋯ & NA & NA & absent                                       & absent                                       & 0.0000000 & 0.00000000 & 0 & -0.97517572868796798 & -0.10121785206809      & -0.53819679037802803\\\\\n",
       "\t BRCA1 & 17 & 41276134 & T & G & NM\\_007294.3 & -19-2 & A & C & c.-19-2A>C & ⋯ & NA & NA & absent                                       & absent                                       & 0.0000000 & 0.00000000 & 0 & -1.76677702938779    & 0.52989154772828595    & -0.61844274082975403\\\\\n",
       "\t BRCA1 & 17 & 41276134 & T & C & NM\\_007294.3 & -19-2 & A & G & c.-19-2A>G & ⋯ & NA & NA & Pathogenic                                   & Pathogenic                                   & 0.0000000 & 0.00000000 & 0 & NA                   & NA                     & NA                  \\\\\n",
       "\t BRCA1 & 17 & 41276134 & T & A & NM\\_007294.3 & -19-2 & A & T & c.-19-2A>T & ⋯ & NA & NA & absent                                       & absent                                       & 0.0000000 & 0.00000000 & 0 & 0.74115354036225101  & -6.5988050752730204E-2 & 0.33758274480476003 \\\\\n",
       "\\end{tabular}\n"
      ],
      "text/markdown": [
       "\n",
       "A tibble: 6 × 62\n",
       "\n",
       "| gene &lt;chr&gt; | chromosome &lt;dbl&gt; | position (hg19) &lt;dbl&gt; | reference &lt;chr&gt; | alt &lt;chr&gt; | transcript_ID &lt;chr&gt; | transcript_position &lt;chr&gt; | transcript_ref &lt;chr&gt; | transcript_alt &lt;chr&gt; | transcript_variant &lt;chr&gt; | ⋯ ⋯ | aGVGD.diff &lt;chr&gt; | aGVGD.class &lt;chr&gt; | clinvar &lt;chr&gt; | clinvar_simple &lt;chr&gt; | gnomAD_AF &lt;dbl&gt; | bravo_AF &lt;dbl&gt; | flossies_AF &lt;dbl&gt; | WT.HAP1.function.score.r1 &lt;chr&gt; | WT.HAP1.function.score.r2 &lt;chr&gt; | WT.HAP1.function.score.mean &lt;chr&gt; |\n",
       "|---|---|---|---|---|---|---|---|---|---|---|---|---|---|---|---|---|---|---|---|---|\n",
       "| BRCA1 | 17 | 41276135 | T | G | NM_007294.3 | -19-3 | A | C | c.-19-3A&gt;C | ⋯ | NA | NA | absent                                       | absent                                       | 0.0000000 | 0.00000000 | 0 | 0.36944644087971701  | 0.259903001034893      | 0.31467472095730498  |\n",
       "| BRCA1 | 17 | 41276135 | T | C | NM_007294.3 | -19-3 | A | G | c.-19-3A&gt;G | ⋯ | NA | NA | Conflicting interpretations of pathogenicity | Conflicting interpretations of pathogenicity | 0.0001275 | 0.00016724 | 0 | -0.33863672461542499 | 0.30135564822599198    | -1.86405381947163E-2 |\n",
       "| BRCA1 | 17 | 41276135 | T | A | NM_007294.3 | -19-3 | A | T | c.-19-3A&gt;T | ⋯ | NA | NA | absent                                       | absent                                       | 0.0000000 | 0.00000000 | 0 | -0.97517572868796798 | -0.10121785206809      | -0.53819679037802803 |\n",
       "| BRCA1 | 17 | 41276134 | T | G | NM_007294.3 | -19-2 | A | C | c.-19-2A&gt;C | ⋯ | NA | NA | absent                                       | absent                                       | 0.0000000 | 0.00000000 | 0 | -1.76677702938779    | 0.52989154772828595    | -0.61844274082975403 |\n",
       "| BRCA1 | 17 | 41276134 | T | C | NM_007294.3 | -19-2 | A | G | c.-19-2A&gt;G | ⋯ | NA | NA | Pathogenic                                   | Pathogenic                                   | 0.0000000 | 0.00000000 | 0 | NA                   | NA                     | NA                   |\n",
       "| BRCA1 | 17 | 41276134 | T | A | NM_007294.3 | -19-2 | A | T | c.-19-2A&gt;T | ⋯ | NA | NA | absent                                       | absent                                       | 0.0000000 | 0.00000000 | 0 | 0.74115354036225101  | -6.5988050752730204E-2 | 0.33758274480476003  |\n",
       "\n"
      ],
      "text/plain": [
       "  gene  chromosome position (hg19) reference alt transcript_ID\n",
       "1 BRCA1 17         41276135        T         G   NM_007294.3  \n",
       "2 BRCA1 17         41276135        T         C   NM_007294.3  \n",
       "3 BRCA1 17         41276135        T         A   NM_007294.3  \n",
       "4 BRCA1 17         41276134        T         G   NM_007294.3  \n",
       "5 BRCA1 17         41276134        T         C   NM_007294.3  \n",
       "6 BRCA1 17         41276134        T         A   NM_007294.3  \n",
       "  transcript_position transcript_ref transcript_alt transcript_variant ⋯\n",
       "1 -19-3               A              C              c.-19-3A>C         ⋯\n",
       "2 -19-3               A              G              c.-19-3A>G         ⋯\n",
       "3 -19-3               A              T              c.-19-3A>T         ⋯\n",
       "4 -19-2               A              C              c.-19-2A>C         ⋯\n",
       "5 -19-2               A              G              c.-19-2A>G         ⋯\n",
       "6 -19-2               A              T              c.-19-2A>T         ⋯\n",
       "  aGVGD.diff aGVGD.class clinvar                                     \n",
       "1 NA         NA          absent                                      \n",
       "2 NA         NA          Conflicting interpretations of pathogenicity\n",
       "3 NA         NA          absent                                      \n",
       "4 NA         NA          absent                                      \n",
       "5 NA         NA          Pathogenic                                  \n",
       "6 NA         NA          absent                                      \n",
       "  clinvar_simple                               gnomAD_AF bravo_AF   flossies_AF\n",
       "1 absent                                       0.0000000 0.00000000 0          \n",
       "2 Conflicting interpretations of pathogenicity 0.0001275 0.00016724 0          \n",
       "3 absent                                       0.0000000 0.00000000 0          \n",
       "4 absent                                       0.0000000 0.00000000 0          \n",
       "5 Pathogenic                                   0.0000000 0.00000000 0          \n",
       "6 absent                                       0.0000000 0.00000000 0          \n",
       "  WT.HAP1.function.score.r1 WT.HAP1.function.score.r2\n",
       "1 0.36944644087971701       0.259903001034893        \n",
       "2 -0.33863672461542499      0.30135564822599198      \n",
       "3 -0.97517572868796798      -0.10121785206809        \n",
       "4 -1.76677702938779         0.52989154772828595      \n",
       "5 NA                        NA                       \n",
       "6 0.74115354036225101       -6.5988050752730204E-2   \n",
       "  WT.HAP1.function.score.mean\n",
       "1 0.31467472095730498        \n",
       "2 -1.86405381947163E-2       \n",
       "3 -0.53819679037802803       \n",
       "4 -0.61844274082975403       \n",
       "5 NA                         \n",
       "6 0.33758274480476003        "
      ]
     },
     "metadata": {},
     "output_type": "display_data"
    }
   ],
   "source": [
    "# URL of supplementary table 1 from Findlay et al. which contains variant positions and counts\n",
    "findlay_suppl1_url <- 'https://static-content.springer.com/esm/art%3A10.1038%2Fs41586-018-0461-z/MediaObjects/41586_2018_461_MOESM3_ESM.xlsx'\n",
    "\n",
    "# Download supplementary table and read XLSX sheet 1 into a data frame skipping the first two rows (unwanted headers) \n",
    "tmpfile <- tempfile()\n",
    "download.file(url = findlay_suppl1_url, destfile = tmpfile, quiet = TRUE)\n",
    "findlay_suppl1 <- suppressWarnings(readxl::read_xlsx(tmpfile, sheet = 1, skip = 2))\n",
    "unlink(tmpfile)\n",
    "\n",
    "# Show data frame\n",
    "head(findlay_suppl1)"
   ]
  },
  {
   "cell_type": "code",
   "execution_count": 4,
   "id": "33aa5831-4ead-448f-a84a-76800cbde3d1",
   "metadata": {},
   "outputs": [
    {
     "data": {
      "text/html": [
       "<table class=\"dataframe\">\n",
       "<caption>A tibble: 6 × 10</caption>\n",
       "<thead>\n",
       "\t<tr><th scope=col>chromosome</th><th scope=col>position_hg19</th><th scope=col>reference</th><th scope=col>alt</th><th scope=col>library</th><th scope=col>negative</th><th scope=col>d5.r1</th><th scope=col>d11.r1</th><th scope=col>d5.r2</th><th scope=col>d11.r2</th></tr>\n",
       "\t<tr><th scope=col>&lt;dbl&gt;</th><th scope=col>&lt;dbl&gt;</th><th scope=col>&lt;chr&gt;</th><th scope=col>&lt;chr&gt;</th><th scope=col>&lt;dbl&gt;</th><th scope=col>&lt;dbl&gt;</th><th scope=col>&lt;dbl&gt;</th><th scope=col>&lt;dbl&gt;</th><th scope=col>&lt;dbl&gt;</th><th scope=col>&lt;dbl&gt;</th></tr>\n",
       "</thead>\n",
       "<tbody>\n",
       "\t<tr><td>17</td><td>41276135</td><td>T</td><td>G</td><td> 546</td><td>1</td><td> 887</td><td> 903</td><td> 705</td><td> 968</td></tr>\n",
       "\t<tr><td>17</td><td>41276135</td><td>T</td><td>C</td><td> 595</td><td>1</td><td> 929</td><td>1139</td><td> 759</td><td>1516</td></tr>\n",
       "\t<tr><td>17</td><td>41276135</td><td>T</td><td>A</td><td>1028</td><td>2</td><td>1448</td><td>1841</td><td>1532</td><td>2578</td></tr>\n",
       "\t<tr><td>17</td><td>41276134</td><td>T</td><td>G</td><td> 705</td><td>1</td><td> 950</td><td>1226</td><td>1203</td><td>1306</td></tr>\n",
       "\t<tr><td>17</td><td>41276134</td><td>T</td><td>C</td><td> 832</td><td>3</td><td>1552</td><td>1259</td><td>1153</td><td>1546</td></tr>\n",
       "\t<tr><td>17</td><td>41276134</td><td>T</td><td>A</td><td> 796</td><td>2</td><td>1208</td><td>1583</td><td>1056</td><td>1216</td></tr>\n",
       "</tbody>\n",
       "</table>\n"
      ],
      "text/latex": [
       "A tibble: 6 × 10\n",
       "\\begin{tabular}{llllllllll}\n",
       " chromosome & position\\_hg19 & reference & alt & library & negative & d5.r1 & d11.r1 & d5.r2 & d11.r2\\\\\n",
       " <dbl> & <dbl> & <chr> & <chr> & <dbl> & <dbl> & <dbl> & <dbl> & <dbl> & <dbl>\\\\\n",
       "\\hline\n",
       "\t 17 & 41276135 & T & G &  546 & 1 &  887 &  903 &  705 &  968\\\\\n",
       "\t 17 & 41276135 & T & C &  595 & 1 &  929 & 1139 &  759 & 1516\\\\\n",
       "\t 17 & 41276135 & T & A & 1028 & 2 & 1448 & 1841 & 1532 & 2578\\\\\n",
       "\t 17 & 41276134 & T & G &  705 & 1 &  950 & 1226 & 1203 & 1306\\\\\n",
       "\t 17 & 41276134 & T & C &  832 & 3 & 1552 & 1259 & 1153 & 1546\\\\\n",
       "\t 17 & 41276134 & T & A &  796 & 2 & 1208 & 1583 & 1056 & 1216\\\\\n",
       "\\end{tabular}\n"
      ],
      "text/markdown": [
       "\n",
       "A tibble: 6 × 10\n",
       "\n",
       "| chromosome &lt;dbl&gt; | position_hg19 &lt;dbl&gt; | reference &lt;chr&gt; | alt &lt;chr&gt; | library &lt;dbl&gt; | negative &lt;dbl&gt; | d5.r1 &lt;dbl&gt; | d11.r1 &lt;dbl&gt; | d5.r2 &lt;dbl&gt; | d11.r2 &lt;dbl&gt; |\n",
       "|---|---|---|---|---|---|---|---|---|---|\n",
       "| 17 | 41276135 | T | G |  546 | 1 |  887 |  903 |  705 |  968 |\n",
       "| 17 | 41276135 | T | C |  595 | 1 |  929 | 1139 |  759 | 1516 |\n",
       "| 17 | 41276135 | T | A | 1028 | 2 | 1448 | 1841 | 1532 | 2578 |\n",
       "| 17 | 41276134 | T | G |  705 | 1 |  950 | 1226 | 1203 | 1306 |\n",
       "| 17 | 41276134 | T | C |  832 | 3 | 1552 | 1259 | 1153 | 1546 |\n",
       "| 17 | 41276134 | T | A |  796 | 2 | 1208 | 1583 | 1056 | 1216 |\n",
       "\n"
      ],
      "text/plain": [
       "  chromosome position_hg19 reference alt library negative d5.r1 d11.r1 d5.r2\n",
       "1 17         41276135      T         G    546    1         887   903    705 \n",
       "2 17         41276135      T         C    595    1         929  1139    759 \n",
       "3 17         41276135      T         A   1028    2        1448  1841   1532 \n",
       "4 17         41276134      T         G    705    1         950  1226   1203 \n",
       "5 17         41276134      T         C    832    3        1552  1259   1153 \n",
       "6 17         41276134      T         A    796    2        1208  1583   1056 \n",
       "  d11.r2\n",
       "1  968  \n",
       "2 1516  \n",
       "3 2578  \n",
       "4 1306  \n",
       "5 1546  \n",
       "6 1216  "
      ]
     },
     "metadata": {},
     "output_type": "display_data"
    }
   ],
   "source": [
    "# Extract hg19 annotations and raw count columns from supplementary data\n",
    "findlay_raw_counts <- findlay_suppl1 %>% \n",
    "    select(chromosome, 'position_hg19' = 'position (hg19)', reference, alt, library, negative, d5.r1, d11.r1, d5.r2, d11.r2)\n",
    "\n",
    "# Show data frame\n",
    "head(findlay_raw_counts)"
   ]
  },
  {
   "cell_type": "markdown",
   "id": "0a40b8bc-6e20-4de6-8d90-0d9928e36181",
   "metadata": {},
   "source": [
    "Because the VaLiAnT example library was built against GRCh38 and the Findlay *et al.* variants are annotated to hg19, we need to perform a lift over to get the corresponding coordinates. This was done using the [hgLiftOver](https://genome.ucsc.edu/cgi-bin/hgLiftOver) tool from UCSC and saved in [hg19_grch38_liftover.tsv](hg19_grch38_liftover.tsv)."
   ]
  },
  {
   "cell_type": "code",
   "execution_count": 5,
   "id": "6f4aa0c7-5215-4e90-accf-cb2036d6a7c0",
   "metadata": {},
   "outputs": [
    {
     "data": {
      "text/html": [
       "<table class=\"dataframe\">\n",
       "<caption>A tibble: 6 × 11</caption>\n",
       "<thead>\n",
       "\t<tr><th scope=col>chromosome</th><th scope=col>position_hg19</th><th scope=col>position_GRCh38</th><th scope=col>reference</th><th scope=col>alt</th><th scope=col>library</th><th scope=col>negative</th><th scope=col>d5.r1</th><th scope=col>d11.r1</th><th scope=col>d5.r2</th><th scope=col>d11.r2</th></tr>\n",
       "\t<tr><th scope=col>&lt;dbl&gt;</th><th scope=col>&lt;dbl&gt;</th><th scope=col>&lt;int&gt;</th><th scope=col>&lt;chr&gt;</th><th scope=col>&lt;chr&gt;</th><th scope=col>&lt;dbl&gt;</th><th scope=col>&lt;dbl&gt;</th><th scope=col>&lt;dbl&gt;</th><th scope=col>&lt;dbl&gt;</th><th scope=col>&lt;dbl&gt;</th><th scope=col>&lt;dbl&gt;</th></tr>\n",
       "</thead>\n",
       "<tbody>\n",
       "\t<tr><td>17</td><td>41276135</td><td>43124118</td><td>T</td><td>G</td><td>546</td><td>1</td><td>887</td><td> 903</td><td>705</td><td> 968</td></tr>\n",
       "\t<tr><td>17</td><td>41276135</td><td>43124118</td><td>T</td><td>G</td><td>546</td><td>1</td><td>887</td><td> 903</td><td>705</td><td> 968</td></tr>\n",
       "\t<tr><td>17</td><td>41276135</td><td>43124118</td><td>T</td><td>G</td><td>546</td><td>1</td><td>887</td><td> 903</td><td>705</td><td> 968</td></tr>\n",
       "\t<tr><td>17</td><td>41276135</td><td>43124118</td><td>T</td><td>C</td><td>595</td><td>1</td><td>929</td><td>1139</td><td>759</td><td>1516</td></tr>\n",
       "\t<tr><td>17</td><td>41276135</td><td>43124118</td><td>T</td><td>C</td><td>595</td><td>1</td><td>929</td><td>1139</td><td>759</td><td>1516</td></tr>\n",
       "\t<tr><td>17</td><td>41276135</td><td>43124118</td><td>T</td><td>C</td><td>595</td><td>1</td><td>929</td><td>1139</td><td>759</td><td>1516</td></tr>\n",
       "</tbody>\n",
       "</table>\n"
      ],
      "text/latex": [
       "A tibble: 6 × 11\n",
       "\\begin{tabular}{lllllllllll}\n",
       " chromosome & position\\_hg19 & position\\_GRCh38 & reference & alt & library & negative & d5.r1 & d11.r1 & d5.r2 & d11.r2\\\\\n",
       " <dbl> & <dbl> & <int> & <chr> & <chr> & <dbl> & <dbl> & <dbl> & <dbl> & <dbl> & <dbl>\\\\\n",
       "\\hline\n",
       "\t 17 & 41276135 & 43124118 & T & G & 546 & 1 & 887 &  903 & 705 &  968\\\\\n",
       "\t 17 & 41276135 & 43124118 & T & G & 546 & 1 & 887 &  903 & 705 &  968\\\\\n",
       "\t 17 & 41276135 & 43124118 & T & G & 546 & 1 & 887 &  903 & 705 &  968\\\\\n",
       "\t 17 & 41276135 & 43124118 & T & C & 595 & 1 & 929 & 1139 & 759 & 1516\\\\\n",
       "\t 17 & 41276135 & 43124118 & T & C & 595 & 1 & 929 & 1139 & 759 & 1516\\\\\n",
       "\t 17 & 41276135 & 43124118 & T & C & 595 & 1 & 929 & 1139 & 759 & 1516\\\\\n",
       "\\end{tabular}\n"
      ],
      "text/markdown": [
       "\n",
       "A tibble: 6 × 11\n",
       "\n",
       "| chromosome &lt;dbl&gt; | position_hg19 &lt;dbl&gt; | position_GRCh38 &lt;int&gt; | reference &lt;chr&gt; | alt &lt;chr&gt; | library &lt;dbl&gt; | negative &lt;dbl&gt; | d5.r1 &lt;dbl&gt; | d11.r1 &lt;dbl&gt; | d5.r2 &lt;dbl&gt; | d11.r2 &lt;dbl&gt; |\n",
       "|---|---|---|---|---|---|---|---|---|---|---|\n",
       "| 17 | 41276135 | 43124118 | T | G | 546 | 1 | 887 |  903 | 705 |  968 |\n",
       "| 17 | 41276135 | 43124118 | T | G | 546 | 1 | 887 |  903 | 705 |  968 |\n",
       "| 17 | 41276135 | 43124118 | T | G | 546 | 1 | 887 |  903 | 705 |  968 |\n",
       "| 17 | 41276135 | 43124118 | T | C | 595 | 1 | 929 | 1139 | 759 | 1516 |\n",
       "| 17 | 41276135 | 43124118 | T | C | 595 | 1 | 929 | 1139 | 759 | 1516 |\n",
       "| 17 | 41276135 | 43124118 | T | C | 595 | 1 | 929 | 1139 | 759 | 1516 |\n",
       "\n"
      ],
      "text/plain": [
       "  chromosome position_hg19 position_GRCh38 reference alt library negative d5.r1\n",
       "1 17         41276135      43124118        T         G   546     1        887  \n",
       "2 17         41276135      43124118        T         G   546     1        887  \n",
       "3 17         41276135      43124118        T         G   546     1        887  \n",
       "4 17         41276135      43124118        T         C   595     1        929  \n",
       "5 17         41276135      43124118        T         C   595     1        929  \n",
       "6 17         41276135      43124118        T         C   595     1        929  \n",
       "  d11.r1 d5.r2 d11.r2\n",
       "1  903   705    968  \n",
       "2  903   705    968  \n",
       "3  903   705    968  \n",
       "4 1139   759   1516  \n",
       "5 1139   759   1516  \n",
       "6 1139   759   1516  "
      ]
     },
     "metadata": {},
     "output_type": "display_data"
    }
   ],
   "source": [
    "# Read in lift over coordinates\n",
    "lift_over_coords <- read.delim('hg19_grch38_liftover.tsv', sep = \"\\t\", header = T)\n",
    "\n",
    "# Add lift over coordinates to raw counts\n",
    "findlay_raw_counts <- findlay_raw_counts %>%\n",
    "    left_join(lift_over_coords, by = 'position_hg19') %>%\n",
    "    relocate(position_GRCh38, .after = 'position_hg19')\n",
    "\n",
    "# Show data frame\n",
    "head(findlay_raw_counts)"
   ]
  },
  {
   "cell_type": "markdown",
   "id": "3a08357e-1ab5-4105-bfd7-a096fb64e2e5",
   "metadata": {},
   "source": [
    "***\n",
    "\n",
    "## Downloading VaLiAnT oligo library\n",
    "\n",
    "As QUANTS requires a library, we will use [VaLiAnT](https://github.com/cancerit/VaLiAnT) to generate a library corresponding to BRCA1 exon2:\n",
    "\n",
    "> Barbon, L., Offord, V., Radford, E.J., *et al.*  \n",
    "> **Variant Library Annotation Tool (VaLiAnT): an oligonucleotide library design and annotation tool for saturation genome editing and other deep mutational scanning experiments.**   \n",
    "> *Bioinformatics 38(4), 892–899 (2022).*. \n",
    "> https://doi.org/10.1093/bioinformatics/btab776\n",
    "\n",
    "[VaLiAnT](https://github.com/cancerit/VaLiAnT) is an oligonucleotide library design and annotation tool for SGE and other deep mutational scanning experiments. See [example_input/valiant_library/README.md](example_input/valiant_library/README.md) for details of creating a VaLiAnT library corresponding to BRAC1 exon 2 coding sequence (CDS)."
   ]
  },
  {
   "cell_type": "code",
   "execution_count": 6,
   "id": "5252e1ac-e7b2-4fa6-bebd-9afe7b2a4db6",
   "metadata": {},
   "outputs": [
    {
     "data": {
      "text/html": [
       "<table class=\"dataframe\">\n",
       "<caption>A data.frame: 6 × 24</caption>\n",
       "<thead>\n",
       "\t<tr><th></th><th scope=col>oligo_name</th><th scope=col>species</th><th scope=col>assembly</th><th scope=col>gene_id</th><th scope=col>transcript_id</th><th scope=col>src_type</th><th scope=col>ref_chr</th><th scope=col>ref_strand</th><th scope=col>ref_start</th><th scope=col>ref_end</th><th scope=col>⋯</th><th scope=col>vcf_var_id</th><th scope=col>mut_position</th><th scope=col>ref</th><th scope=col>new</th><th scope=col>ref_aa</th><th scope=col>alt_aa</th><th scope=col>mut_type</th><th scope=col>mutator</th><th scope=col>oligo_length</th><th scope=col>mseq</th></tr>\n",
       "\t<tr><th></th><th scope=col>&lt;chr&gt;</th><th scope=col>&lt;chr&gt;</th><th scope=col>&lt;chr&gt;</th><th scope=col>&lt;chr&gt;</th><th scope=col>&lt;chr&gt;</th><th scope=col>&lt;chr&gt;</th><th scope=col>&lt;chr&gt;</th><th scope=col>&lt;chr&gt;</th><th scope=col>&lt;int&gt;</th><th scope=col>&lt;int&gt;</th><th scope=col>⋯</th><th scope=col>&lt;lgl&gt;</th><th scope=col>&lt;int&gt;</th><th scope=col>&lt;chr&gt;</th><th scope=col>&lt;chr&gt;</th><th scope=col>&lt;chr&gt;</th><th scope=col>&lt;chr&gt;</th><th scope=col>&lt;chr&gt;</th><th scope=col>&lt;chr&gt;</th><th scope=col>&lt;int&gt;</th><th scope=col>&lt;chr&gt;</th></tr>\n",
       "</thead>\n",
       "<tbody>\n",
       "\t<tr><th scope=row>1</th><td>ENST00000357654.9.ENSG00000012048.23_chr17:43124017_C&gt;A_snv_rc</td><td>homo sapiens</td><td>GRCh38</td><td>ENSG00000012048.23</td><td>ENST00000357654.9</td><td>ref</td><td>chr17</td><td>-</td><td>43123941</td><td>43124175</td><td>⋯</td><td>NA</td><td>43124017</td><td>C</td><td>A</td><td>C</td><td>F</td><td>mis</td><td>snv</td><td>235</td><td>GTTGTCATTTTATAAACCTTTTAAAAAGATATATATATATGTTTTTCTAATGTGTTAAAGTTCACTGGAACAGAAAGAAATGGATTTATCTGCTCTTCGCGTTGAAGAAGTACAAAATGTCATTAATGCTATGCAGAAAATCTTAGAGTGTCCGATCTTGTAAGTCAGCACAAGAGTGTATTAATTTGGGATTCCTATGATTATCTCCTATGCAAATGAACAGAATTGACCTTAC</td></tr>\n",
       "\t<tr><th scope=row>2</th><td>ENST00000357654.9.ENSG00000012048.23_chr17:43124017_C&gt;T_snv_rc</td><td>homo sapiens</td><td>GRCh38</td><td>ENSG00000012048.23</td><td>ENST00000357654.9</td><td>ref</td><td>chr17</td><td>-</td><td>43123941</td><td>43124175</td><td>⋯</td><td>NA</td><td>43124017</td><td>C</td><td>T</td><td>C</td><td>Y</td><td>mis</td><td>snv</td><td>235</td><td>GTTGTCATTTTATAAACCTTTTAAAAAGATATATATATATGTTTTTCTAATGTGTTAAAGTTCACTGGAACAGAAAGAAATGGATTTATCTGCTCTTCGCGTTGAAGAAGTACAAAATGTCATTAATGCTATGCAGAAAATCTTAGAGTGTCCGATCTAGTAAGTCAGCACAAGAGTGTATTAATTTGGGATTCCTATGATTATCTCCTATGCAAATGAACAGAATTGACCTTAC</td></tr>\n",
       "\t<tr><th scope=row>3</th><td>ENST00000357654.9.ENSG00000012048.23_chr17:43124017_C&gt;G_snv_rc</td><td>homo sapiens</td><td>GRCh38</td><td>ENSG00000012048.23</td><td>ENST00000357654.9</td><td>ref</td><td>chr17</td><td>-</td><td>43123941</td><td>43124175</td><td>⋯</td><td>NA</td><td>43124017</td><td>C</td><td>G</td><td>C</td><td>S</td><td>mis</td><td>snv</td><td>235</td><td>GTTGTCATTTTATAAACCTTTTAAAAAGATATATATATATGTTTTTCTAATGTGTTAAAGTTCACTGGAACAGAAAGAAATGGATTTATCTGCTCTTCGCGTTGAAGAAGTACAAAATGTCATTAATGCTATGCAGAAAATCTTAGAGTGTCCGATCTCGTAAGTCAGCACAAGAGTGTATTAATTTGGGATTCCTATGATTATCTCCTATGCAAATGAACAGAATTGACCTTAC</td></tr>\n",
       "\t<tr><th scope=row>4</th><td>ENST00000357654.9.ENSG00000012048.23_chr17:43124018_A&gt;C_snv_rc</td><td>homo sapiens</td><td>GRCh38</td><td>ENSG00000012048.23</td><td>ENST00000357654.9</td><td>ref</td><td>chr17</td><td>-</td><td>43123941</td><td>43124175</td><td>⋯</td><td>NA</td><td>43124018</td><td>A</td><td>C</td><td>C</td><td>G</td><td>mis</td><td>snv</td><td>235</td><td>GTTGTCATTTTATAAACCTTTTAAAAAGATATATATATATGTTTTTCTAATGTGTTAAAGTTCACTGGAACAGAAAGAAATGGATTTATCTGCTCTTCGCGTTGAAGAAGTACAAAATGTCATTAATGCTATGCAGAAAATCTTAGAGTGTCCGATCGGGTAAGTCAGCACAAGAGTGTATTAATTTGGGATTCCTATGATTATCTCCTATGCAAATGAACAGAATTGACCTTAC</td></tr>\n",
       "\t<tr><th scope=row>5</th><td>ENST00000357654.9.ENSG00000012048.23_chr17:43124018_A&gt;T_snv_rc</td><td>homo sapiens</td><td>GRCh38</td><td>ENSG00000012048.23</td><td>ENST00000357654.9</td><td>ref</td><td>chr17</td><td>-</td><td>43123941</td><td>43124175</td><td>⋯</td><td>NA</td><td>43124018</td><td>A</td><td>T</td><td>C</td><td>S</td><td>mis</td><td>snv</td><td>235</td><td>GTTGTCATTTTATAAACCTTTTAAAAAGATATATATATATGTTTTTCTAATGTGTTAAAGTTCACTGGAACAGAAAGAAATGGATTTATCTGCTCTTCGCGTTGAAGAAGTACAAAATGTCATTAATGCTATGCAGAAAATCTTAGAGTGTCCGATCAGGTAAGTCAGCACAAGAGTGTATTAATTTGGGATTCCTATGATTATCTCCTATGCAAATGAACAGAATTGACCTTAC</td></tr>\n",
       "\t<tr><th scope=row>6</th><td>ENST00000357654.9.ENSG00000012048.23_chr17:43124018_A&gt;G_snv_rc</td><td>homo sapiens</td><td>GRCh38</td><td>ENSG00000012048.23</td><td>ENST00000357654.9</td><td>ref</td><td>chr17</td><td>-</td><td>43123941</td><td>43124175</td><td>⋯</td><td>NA</td><td>43124018</td><td>A</td><td>G</td><td>C</td><td>R</td><td>mis</td><td>snv</td><td>235</td><td>GTTGTCATTTTATAAACCTTTTAAAAAGATATATATATATGTTTTTCTAATGTGTTAAAGTTCACTGGAACAGAAAGAAATGGATTTATCTGCTCTTCGCGTTGAAGAAGTACAAAATGTCATTAATGCTATGCAGAAAATCTTAGAGTGTCCGATCCGGTAAGTCAGCACAAGAGTGTATTAATTTGGGATTCCTATGATTATCTCCTATGCAAATGAACAGAATTGACCTTAC</td></tr>\n",
       "</tbody>\n",
       "</table>\n"
      ],
      "text/latex": [
       "A data.frame: 6 × 24\n",
       "\\begin{tabular}{r|lllllllllllllllllllll}\n",
       "  & oligo\\_name & species & assembly & gene\\_id & transcript\\_id & src\\_type & ref\\_chr & ref\\_strand & ref\\_start & ref\\_end & ⋯ & vcf\\_var\\_id & mut\\_position & ref & new & ref\\_aa & alt\\_aa & mut\\_type & mutator & oligo\\_length & mseq\\\\\n",
       "  & <chr> & <chr> & <chr> & <chr> & <chr> & <chr> & <chr> & <chr> & <int> & <int> & ⋯ & <lgl> & <int> & <chr> & <chr> & <chr> & <chr> & <chr> & <chr> & <int> & <chr>\\\\\n",
       "\\hline\n",
       "\t1 & ENST00000357654.9.ENSG00000012048.23\\_chr17:43124017\\_C>A\\_snv\\_rc & homo sapiens & GRCh38 & ENSG00000012048.23 & ENST00000357654.9 & ref & chr17 & - & 43123941 & 43124175 & ⋯ & NA & 43124017 & C & A & C & F & mis & snv & 235 & GTTGTCATTTTATAAACCTTTTAAAAAGATATATATATATGTTTTTCTAATGTGTTAAAGTTCACTGGAACAGAAAGAAATGGATTTATCTGCTCTTCGCGTTGAAGAAGTACAAAATGTCATTAATGCTATGCAGAAAATCTTAGAGTGTCCGATCTTGTAAGTCAGCACAAGAGTGTATTAATTTGGGATTCCTATGATTATCTCCTATGCAAATGAACAGAATTGACCTTAC\\\\\n",
       "\t2 & ENST00000357654.9.ENSG00000012048.23\\_chr17:43124017\\_C>T\\_snv\\_rc & homo sapiens & GRCh38 & ENSG00000012048.23 & ENST00000357654.9 & ref & chr17 & - & 43123941 & 43124175 & ⋯ & NA & 43124017 & C & T & C & Y & mis & snv & 235 & GTTGTCATTTTATAAACCTTTTAAAAAGATATATATATATGTTTTTCTAATGTGTTAAAGTTCACTGGAACAGAAAGAAATGGATTTATCTGCTCTTCGCGTTGAAGAAGTACAAAATGTCATTAATGCTATGCAGAAAATCTTAGAGTGTCCGATCTAGTAAGTCAGCACAAGAGTGTATTAATTTGGGATTCCTATGATTATCTCCTATGCAAATGAACAGAATTGACCTTAC\\\\\n",
       "\t3 & ENST00000357654.9.ENSG00000012048.23\\_chr17:43124017\\_C>G\\_snv\\_rc & homo sapiens & GRCh38 & ENSG00000012048.23 & ENST00000357654.9 & ref & chr17 & - & 43123941 & 43124175 & ⋯ & NA & 43124017 & C & G & C & S & mis & snv & 235 & GTTGTCATTTTATAAACCTTTTAAAAAGATATATATATATGTTTTTCTAATGTGTTAAAGTTCACTGGAACAGAAAGAAATGGATTTATCTGCTCTTCGCGTTGAAGAAGTACAAAATGTCATTAATGCTATGCAGAAAATCTTAGAGTGTCCGATCTCGTAAGTCAGCACAAGAGTGTATTAATTTGGGATTCCTATGATTATCTCCTATGCAAATGAACAGAATTGACCTTAC\\\\\n",
       "\t4 & ENST00000357654.9.ENSG00000012048.23\\_chr17:43124018\\_A>C\\_snv\\_rc & homo sapiens & GRCh38 & ENSG00000012048.23 & ENST00000357654.9 & ref & chr17 & - & 43123941 & 43124175 & ⋯ & NA & 43124018 & A & C & C & G & mis & snv & 235 & GTTGTCATTTTATAAACCTTTTAAAAAGATATATATATATGTTTTTCTAATGTGTTAAAGTTCACTGGAACAGAAAGAAATGGATTTATCTGCTCTTCGCGTTGAAGAAGTACAAAATGTCATTAATGCTATGCAGAAAATCTTAGAGTGTCCGATCGGGTAAGTCAGCACAAGAGTGTATTAATTTGGGATTCCTATGATTATCTCCTATGCAAATGAACAGAATTGACCTTAC\\\\\n",
       "\t5 & ENST00000357654.9.ENSG00000012048.23\\_chr17:43124018\\_A>T\\_snv\\_rc & homo sapiens & GRCh38 & ENSG00000012048.23 & ENST00000357654.9 & ref & chr17 & - & 43123941 & 43124175 & ⋯ & NA & 43124018 & A & T & C & S & mis & snv & 235 & GTTGTCATTTTATAAACCTTTTAAAAAGATATATATATATGTTTTTCTAATGTGTTAAAGTTCACTGGAACAGAAAGAAATGGATTTATCTGCTCTTCGCGTTGAAGAAGTACAAAATGTCATTAATGCTATGCAGAAAATCTTAGAGTGTCCGATCAGGTAAGTCAGCACAAGAGTGTATTAATTTGGGATTCCTATGATTATCTCCTATGCAAATGAACAGAATTGACCTTAC\\\\\n",
       "\t6 & ENST00000357654.9.ENSG00000012048.23\\_chr17:43124018\\_A>G\\_snv\\_rc & homo sapiens & GRCh38 & ENSG00000012048.23 & ENST00000357654.9 & ref & chr17 & - & 43123941 & 43124175 & ⋯ & NA & 43124018 & A & G & C & R & mis & snv & 235 & GTTGTCATTTTATAAACCTTTTAAAAAGATATATATATATGTTTTTCTAATGTGTTAAAGTTCACTGGAACAGAAAGAAATGGATTTATCTGCTCTTCGCGTTGAAGAAGTACAAAATGTCATTAATGCTATGCAGAAAATCTTAGAGTGTCCGATCCGGTAAGTCAGCACAAGAGTGTATTAATTTGGGATTCCTATGATTATCTCCTATGCAAATGAACAGAATTGACCTTAC\\\\\n",
       "\\end{tabular}\n"
      ],
      "text/markdown": [
       "\n",
       "A data.frame: 6 × 24\n",
       "\n",
       "| <!--/--> | oligo_name &lt;chr&gt; | species &lt;chr&gt; | assembly &lt;chr&gt; | gene_id &lt;chr&gt; | transcript_id &lt;chr&gt; | src_type &lt;chr&gt; | ref_chr &lt;chr&gt; | ref_strand &lt;chr&gt; | ref_start &lt;int&gt; | ref_end &lt;int&gt; | ⋯ ⋯ | vcf_var_id &lt;lgl&gt; | mut_position &lt;int&gt; | ref &lt;chr&gt; | new &lt;chr&gt; | ref_aa &lt;chr&gt; | alt_aa &lt;chr&gt; | mut_type &lt;chr&gt; | mutator &lt;chr&gt; | oligo_length &lt;int&gt; | mseq &lt;chr&gt; |\n",
       "|---|---|---|---|---|---|---|---|---|---|---|---|---|---|---|---|---|---|---|---|---|---|\n",
       "| 1 | ENST00000357654.9.ENSG00000012048.23_chr17:43124017_C&gt;A_snv_rc | homo sapiens | GRCh38 | ENSG00000012048.23 | ENST00000357654.9 | ref | chr17 | - | 43123941 | 43124175 | ⋯ | NA | 43124017 | C | A | C | F | mis | snv | 235 | GTTGTCATTTTATAAACCTTTTAAAAAGATATATATATATGTTTTTCTAATGTGTTAAAGTTCACTGGAACAGAAAGAAATGGATTTATCTGCTCTTCGCGTTGAAGAAGTACAAAATGTCATTAATGCTATGCAGAAAATCTTAGAGTGTCCGATCTTGTAAGTCAGCACAAGAGTGTATTAATTTGGGATTCCTATGATTATCTCCTATGCAAATGAACAGAATTGACCTTAC |\n",
       "| 2 | ENST00000357654.9.ENSG00000012048.23_chr17:43124017_C&gt;T_snv_rc | homo sapiens | GRCh38 | ENSG00000012048.23 | ENST00000357654.9 | ref | chr17 | - | 43123941 | 43124175 | ⋯ | NA | 43124017 | C | T | C | Y | mis | snv | 235 | GTTGTCATTTTATAAACCTTTTAAAAAGATATATATATATGTTTTTCTAATGTGTTAAAGTTCACTGGAACAGAAAGAAATGGATTTATCTGCTCTTCGCGTTGAAGAAGTACAAAATGTCATTAATGCTATGCAGAAAATCTTAGAGTGTCCGATCTAGTAAGTCAGCACAAGAGTGTATTAATTTGGGATTCCTATGATTATCTCCTATGCAAATGAACAGAATTGACCTTAC |\n",
       "| 3 | ENST00000357654.9.ENSG00000012048.23_chr17:43124017_C&gt;G_snv_rc | homo sapiens | GRCh38 | ENSG00000012048.23 | ENST00000357654.9 | ref | chr17 | - | 43123941 | 43124175 | ⋯ | NA | 43124017 | C | G | C | S | mis | snv | 235 | GTTGTCATTTTATAAACCTTTTAAAAAGATATATATATATGTTTTTCTAATGTGTTAAAGTTCACTGGAACAGAAAGAAATGGATTTATCTGCTCTTCGCGTTGAAGAAGTACAAAATGTCATTAATGCTATGCAGAAAATCTTAGAGTGTCCGATCTCGTAAGTCAGCACAAGAGTGTATTAATTTGGGATTCCTATGATTATCTCCTATGCAAATGAACAGAATTGACCTTAC |\n",
       "| 4 | ENST00000357654.9.ENSG00000012048.23_chr17:43124018_A&gt;C_snv_rc | homo sapiens | GRCh38 | ENSG00000012048.23 | ENST00000357654.9 | ref | chr17 | - | 43123941 | 43124175 | ⋯ | NA | 43124018 | A | C | C | G | mis | snv | 235 | GTTGTCATTTTATAAACCTTTTAAAAAGATATATATATATGTTTTTCTAATGTGTTAAAGTTCACTGGAACAGAAAGAAATGGATTTATCTGCTCTTCGCGTTGAAGAAGTACAAAATGTCATTAATGCTATGCAGAAAATCTTAGAGTGTCCGATCGGGTAAGTCAGCACAAGAGTGTATTAATTTGGGATTCCTATGATTATCTCCTATGCAAATGAACAGAATTGACCTTAC |\n",
       "| 5 | ENST00000357654.9.ENSG00000012048.23_chr17:43124018_A&gt;T_snv_rc | homo sapiens | GRCh38 | ENSG00000012048.23 | ENST00000357654.9 | ref | chr17 | - | 43123941 | 43124175 | ⋯ | NA | 43124018 | A | T | C | S | mis | snv | 235 | GTTGTCATTTTATAAACCTTTTAAAAAGATATATATATATGTTTTTCTAATGTGTTAAAGTTCACTGGAACAGAAAGAAATGGATTTATCTGCTCTTCGCGTTGAAGAAGTACAAAATGTCATTAATGCTATGCAGAAAATCTTAGAGTGTCCGATCAGGTAAGTCAGCACAAGAGTGTATTAATTTGGGATTCCTATGATTATCTCCTATGCAAATGAACAGAATTGACCTTAC |\n",
       "| 6 | ENST00000357654.9.ENSG00000012048.23_chr17:43124018_A&gt;G_snv_rc | homo sapiens | GRCh38 | ENSG00000012048.23 | ENST00000357654.9 | ref | chr17 | - | 43123941 | 43124175 | ⋯ | NA | 43124018 | A | G | C | R | mis | snv | 235 | GTTGTCATTTTATAAACCTTTTAAAAAGATATATATATATGTTTTTCTAATGTGTTAAAGTTCACTGGAACAGAAAGAAATGGATTTATCTGCTCTTCGCGTTGAAGAAGTACAAAATGTCATTAATGCTATGCAGAAAATCTTAGAGTGTCCGATCCGGTAAGTCAGCACAAGAGTGTATTAATTTGGGATTCCTATGATTATCTCCTATGCAAATGAACAGAATTGACCTTAC |\n",
       "\n"
      ],
      "text/plain": [
       "  oligo_name                                                     species     \n",
       "1 ENST00000357654.9.ENSG00000012048.23_chr17:43124017_C>A_snv_rc homo sapiens\n",
       "2 ENST00000357654.9.ENSG00000012048.23_chr17:43124017_C>T_snv_rc homo sapiens\n",
       "3 ENST00000357654.9.ENSG00000012048.23_chr17:43124017_C>G_snv_rc homo sapiens\n",
       "4 ENST00000357654.9.ENSG00000012048.23_chr17:43124018_A>C_snv_rc homo sapiens\n",
       "5 ENST00000357654.9.ENSG00000012048.23_chr17:43124018_A>T_snv_rc homo sapiens\n",
       "6 ENST00000357654.9.ENSG00000012048.23_chr17:43124018_A>G_snv_rc homo sapiens\n",
       "  assembly gene_id            transcript_id     src_type ref_chr ref_strand\n",
       "1 GRCh38   ENSG00000012048.23 ENST00000357654.9 ref      chr17   -         \n",
       "2 GRCh38   ENSG00000012048.23 ENST00000357654.9 ref      chr17   -         \n",
       "3 GRCh38   ENSG00000012048.23 ENST00000357654.9 ref      chr17   -         \n",
       "4 GRCh38   ENSG00000012048.23 ENST00000357654.9 ref      chr17   -         \n",
       "5 GRCh38   ENSG00000012048.23 ENST00000357654.9 ref      chr17   -         \n",
       "6 GRCh38   ENSG00000012048.23 ENST00000357654.9 ref      chr17   -         \n",
       "  ref_start ref_end  ⋯ vcf_var_id mut_position ref new ref_aa alt_aa mut_type\n",
       "1 43123941  43124175 ⋯ NA         43124017     C   A   C      F      mis     \n",
       "2 43123941  43124175 ⋯ NA         43124017     C   T   C      Y      mis     \n",
       "3 43123941  43124175 ⋯ NA         43124017     C   G   C      S      mis     \n",
       "4 43123941  43124175 ⋯ NA         43124018     A   C   C      G      mis     \n",
       "5 43123941  43124175 ⋯ NA         43124018     A   T   C      S      mis     \n",
       "6 43123941  43124175 ⋯ NA         43124018     A   G   C      R      mis     \n",
       "  mutator oligo_length\n",
       "1 snv     235         \n",
       "2 snv     235         \n",
       "3 snv     235         \n",
       "4 snv     235         \n",
       "5 snv     235         \n",
       "6 snv     235         \n",
       "  mseq                                                                                                                                                                                                                                       \n",
       "1 GTTGTCATTTTATAAACCTTTTAAAAAGATATATATATATGTTTTTCTAATGTGTTAAAGTTCACTGGAACAGAAAGAAATGGATTTATCTGCTCTTCGCGTTGAAGAAGTACAAAATGTCATTAATGCTATGCAGAAAATCTTAGAGTGTCCGATCTTGTAAGTCAGCACAAGAGTGTATTAATTTGGGATTCCTATGATTATCTCCTATGCAAATGAACAGAATTGACCTTAC\n",
       "2 GTTGTCATTTTATAAACCTTTTAAAAAGATATATATATATGTTTTTCTAATGTGTTAAAGTTCACTGGAACAGAAAGAAATGGATTTATCTGCTCTTCGCGTTGAAGAAGTACAAAATGTCATTAATGCTATGCAGAAAATCTTAGAGTGTCCGATCTAGTAAGTCAGCACAAGAGTGTATTAATTTGGGATTCCTATGATTATCTCCTATGCAAATGAACAGAATTGACCTTAC\n",
       "3 GTTGTCATTTTATAAACCTTTTAAAAAGATATATATATATGTTTTTCTAATGTGTTAAAGTTCACTGGAACAGAAAGAAATGGATTTATCTGCTCTTCGCGTTGAAGAAGTACAAAATGTCATTAATGCTATGCAGAAAATCTTAGAGTGTCCGATCTCGTAAGTCAGCACAAGAGTGTATTAATTTGGGATTCCTATGATTATCTCCTATGCAAATGAACAGAATTGACCTTAC\n",
       "4 GTTGTCATTTTATAAACCTTTTAAAAAGATATATATATATGTTTTTCTAATGTGTTAAAGTTCACTGGAACAGAAAGAAATGGATTTATCTGCTCTTCGCGTTGAAGAAGTACAAAATGTCATTAATGCTATGCAGAAAATCTTAGAGTGTCCGATCGGGTAAGTCAGCACAAGAGTGTATTAATTTGGGATTCCTATGATTATCTCCTATGCAAATGAACAGAATTGACCTTAC\n",
       "5 GTTGTCATTTTATAAACCTTTTAAAAAGATATATATATATGTTTTTCTAATGTGTTAAAGTTCACTGGAACAGAAAGAAATGGATTTATCTGCTCTTCGCGTTGAAGAAGTACAAAATGTCATTAATGCTATGCAGAAAATCTTAGAGTGTCCGATCAGGTAAGTCAGCACAAGAGTGTATTAATTTGGGATTCCTATGATTATCTCCTATGCAAATGAACAGAATTGACCTTAC\n",
       "6 GTTGTCATTTTATAAACCTTTTAAAAAGATATATATATATGTTTTTCTAATGTGTTAAAGTTCACTGGAACAGAAAGAAATGGATTTATCTGCTCTTCGCGTTGAAGAAGTACAAAATGTCATTAATGCTATGCAGAAAATCTTAGAGTGTCCGATCCGGTAAGTCAGCACAAGAGTGTATTAATTTGGGATTCCTATGATTATCTCCTATGCAAATGAACAGAATTGACCTTAC"
      ]
     },
     "metadata": {},
     "output_type": "display_data"
    }
   ],
   "source": [
    "brca1_exon2_valiant_lib_file <- \"example_input/valiant_library/brca1_nuc_output/chr17_43123941_43124175_minus_sgRNA_exon2_meta.csv\"\n",
    "\n",
    "# Read VaLiAnT library into data frame\n",
    "brca1_exon2_valiant_lib <- read.delim(brca1_exon2_valiant_lib_file, sep = \",\", header = T, check.names = F)\n",
    "\n",
    "# Show data frame\n",
    "head(brca1_exon2_valiant_lib)"
   ]
  },
  {
   "cell_type": "markdown",
   "id": "3c0ace91-e259-45a8-af5b-eba808a50a15",
   "metadata": {},
   "source": [
    "In Findlay et al. the region targeted is much smaller than the window generated here (GRCh38 e106 17:43124013-43124118). We also produce a shorter oligo sequence for improved comparability."
   ]
  },
  {
   "cell_type": "markdown",
   "id": "46c842c0-6453-4c77-b695-554f8b89252a",
   "metadata": {},
   "source": [
    "***\n",
    "\n",
    "## Combining VaLiAnT oligos and Findlay raw counts\n",
    "\n",
    "We can then combine the raw counts and annotation from Findlay *et al.* with the VaLiAnT oligos and their annotations. "
   ]
  },
  {
   "cell_type": "code",
   "execution_count": 7,
   "id": "7441fc41-663c-4001-969d-5a9893628d90",
   "metadata": {},
   "outputs": [
    {
     "data": {
      "text/html": [
       "<table class=\"dataframe\">\n",
       "<caption>A tibble: 6 × 32</caption>\n",
       "<thead>\n",
       "\t<tr><th scope=col>chromosome</th><th scope=col>position_hg19</th><th scope=col>position_GRCh38</th><th scope=col>reference</th><th scope=col>alt</th><th scope=col>library</th><th scope=col>negative</th><th scope=col>d5.r1</th><th scope=col>d11.r1</th><th scope=col>d5.r2</th><th scope=col>⋯</th><th scope=col>ref_seq</th><th scope=col>pam_seq</th><th scope=col>vcf_alias</th><th scope=col>vcf_var_id</th><th scope=col>ref_aa</th><th scope=col>alt_aa</th><th scope=col>mut_type</th><th scope=col>mutator</th><th scope=col>oligo_length</th><th scope=col>mseq</th></tr>\n",
       "\t<tr><th scope=col>&lt;dbl&gt;</th><th scope=col>&lt;dbl&gt;</th><th scope=col>&lt;int&gt;</th><th scope=col>&lt;chr&gt;</th><th scope=col>&lt;chr&gt;</th><th scope=col>&lt;dbl&gt;</th><th scope=col>&lt;dbl&gt;</th><th scope=col>&lt;dbl&gt;</th><th scope=col>&lt;dbl&gt;</th><th scope=col>&lt;dbl&gt;</th><th scope=col>⋯</th><th scope=col>&lt;chr&gt;</th><th scope=col>&lt;chr&gt;</th><th scope=col>&lt;lgl&gt;</th><th scope=col>&lt;lgl&gt;</th><th scope=col>&lt;chr&gt;</th><th scope=col>&lt;chr&gt;</th><th scope=col>&lt;chr&gt;</th><th scope=col>&lt;chr&gt;</th><th scope=col>&lt;int&gt;</th><th scope=col>&lt;chr&gt;</th></tr>\n",
       "</thead>\n",
       "<tbody>\n",
       "\t<tr><td>17</td><td>41276113</td><td>43124096</td><td>T</td><td>G</td><td> 828</td><td>2</td><td> 685</td><td>663</td><td> 847</td><td>⋯</td><td>GTAAGGTCAATTCTGTTCATTTGCATAGGAGATAATCATAGGAATCCCAAATTAATACACTCTTGTGCTGACTTACCAGATGGGACACTCTAAGATTTTCTGCATAGCATTAATGACATTTTGTACTTCTTCAACGCGAAGAGCAGATAAATCCATTTCTTTCTGTTCCAATGAACTTTAACACATTAGAAAAACATATATATATATCTTTTTAAAAGGTTTATAAAATGACAAC</td><td>GTAAGGTCAATTCTGTTCATTTGCATAGGAGATAATCATAGGAATCCCAAATTAATACACTCTTGTGCTGACTTACCAGATCGGACACTCTAAGATTTTCTGCATAGCATTAATGACATTTTGTACTTCTTCAACGCGAAGAGCAGATAAATCCATTTCTTTCTGTTCCAGTGAACTTTAACACATTAGAAAAACATATATATATATCTTTTTAAAAGGTTTATAAAATGACAAC</td><td>NA</td><td>NA</td><td>M</td><td>L</td><td>mis</td><td>snv</td><td>235</td><td>GTTGTCATTTTATAAACCTTTTAAAAAGATATATATATATGTTTTTCTAATGTGTTAAAGTTCACTGGAACAGAAAGAACTGGATTTATCTGCTCTTCGCGTTGAAGAAGTACAAAATGTCATTAATGCTATGCAGAAAATCTTAGAGTGTCCGATCTGGTAAGTCAGCACAAGAGTGTATTAATTTGGGATTCCTATGATTATCTCCTATGCAAATGAACAGAATTGACCTTAC</td></tr>\n",
       "\t<tr><td>17</td><td>41276113</td><td>43124096</td><td>T</td><td>C</td><td>1229</td><td>1</td><td>1335</td><td>847</td><td>1179</td><td>⋯</td><td>GTAAGGTCAATTCTGTTCATTTGCATAGGAGATAATCATAGGAATCCCAAATTAATACACTCTTGTGCTGACTTACCAGATGGGACACTCTAAGATTTTCTGCATAGCATTAATGACATTTTGTACTTCTTCAACGCGAAGAGCAGATAAATCCATTTCTTTCTGTTCCAATGAACTTTAACACATTAGAAAAACATATATATATATCTTTTTAAAAGGTTTATAAAATGACAAC</td><td>GTAAGGTCAATTCTGTTCATTTGCATAGGAGATAATCATAGGAATCCCAAATTAATACACTCTTGTGCTGACTTACCAGATCGGACACTCTAAGATTTTCTGCATAGCATTAATGACATTTTGTACTTCTTCAACGCGAAGAGCAGATAAATCCATTTCTTTCTGTTCCAGTGAACTTTAACACATTAGAAAAACATATATATATATCTTTTTAAAAGGTTTATAAAATGACAAC</td><td>NA</td><td>NA</td><td>M</td><td>V</td><td>mis</td><td>snv</td><td>235</td><td>GTTGTCATTTTATAAACCTTTTAAAAAGATATATATATATGTTTTTCTAATGTGTTAAAGTTCACTGGAACAGAAAGAAGTGGATTTATCTGCTCTTCGCGTTGAAGAAGTACAAAATGTCATTAATGCTATGCAGAAAATCTTAGAGTGTCCGATCTGGTAAGTCAGCACAAGAGTGTATTAATTTGGGATTCCTATGATTATCTCCTATGCAAATGAACAGAATTGACCTTAC</td></tr>\n",
       "\t<tr><td>17</td><td>41276113</td><td>43124096</td><td>T</td><td>A</td><td> 867</td><td>2</td><td> 658</td><td>652</td><td> 701</td><td>⋯</td><td>GTAAGGTCAATTCTGTTCATTTGCATAGGAGATAATCATAGGAATCCCAAATTAATACACTCTTGTGCTGACTTACCAGATGGGACACTCTAAGATTTTCTGCATAGCATTAATGACATTTTGTACTTCTTCAACGCGAAGAGCAGATAAATCCATTTCTTTCTGTTCCAATGAACTTTAACACATTAGAAAAACATATATATATATCTTTTTAAAAGGTTTATAAAATGACAAC</td><td>GTAAGGTCAATTCTGTTCATTTGCATAGGAGATAATCATAGGAATCCCAAATTAATACACTCTTGTGCTGACTTACCAGATCGGACACTCTAAGATTTTCTGCATAGCATTAATGACATTTTGTACTTCTTCAACGCGAAGAGCAGATAAATCCATTTCTTTCTGTTCCAGTGAACTTTAACACATTAGAAAAACATATATATATATCTTTTTAAAAGGTTTATAAAATGACAAC</td><td>NA</td><td>NA</td><td>M</td><td>L</td><td>mis</td><td>snv</td><td>235</td><td>GTTGTCATTTTATAAACCTTTTAAAAAGATATATATATATGTTTTTCTAATGTGTTAAAGTTCACTGGAACAGAAAGAATTGGATTTATCTGCTCTTCGCGTTGAAGAAGTACAAAATGTCATTAATGCTATGCAGAAAATCTTAGAGTGTCCGATCTGGTAAGTCAGCACAAGAGTGTATTAATTTGGGATTCCTATGATTATCTCCTATGCAAATGAACAGAATTGACCTTAC</td></tr>\n",
       "\t<tr><td>17</td><td>41276112</td><td>43124095</td><td>A</td><td>T</td><td> 681</td><td>1</td><td> 641</td><td>391</td><td> 927</td><td>⋯</td><td>GTAAGGTCAATTCTGTTCATTTGCATAGGAGATAATCATAGGAATCCCAAATTAATACACTCTTGTGCTGACTTACCAGATGGGACACTCTAAGATTTTCTGCATAGCATTAATGACATTTTGTACTTCTTCAACGCGAAGAGCAGATAAATCCATTTCTTTCTGTTCCAATGAACTTTAACACATTAGAAAAACATATATATATATCTTTTTAAAAGGTTTATAAAATGACAAC</td><td>GTAAGGTCAATTCTGTTCATTTGCATAGGAGATAATCATAGGAATCCCAAATTAATACACTCTTGTGCTGACTTACCAGATCGGACACTCTAAGATTTTCTGCATAGCATTAATGACATTTTGTACTTCTTCAACGCGAAGAGCAGATAAATCCATTTCTTTCTGTTCCAGTGAACTTTAACACATTAGAAAAACATATATATATATCTTTTTAAAAGGTTTATAAAATGACAAC</td><td>NA</td><td>NA</td><td>M</td><td>K</td><td>mis</td><td>snv</td><td>235</td><td>GTTGTCATTTTATAAACCTTTTAAAAAGATATATATATATGTTTTTCTAATGTGTTAAAGTTCACTGGAACAGAAAGAAAAGGATTTATCTGCTCTTCGCGTTGAAGAAGTACAAAATGTCATTAATGCTATGCAGAAAATCTTAGAGTGTCCGATCTGGTAAGTCAGCACAAGAGTGTATTAATTTGGGATTCCTATGATTATCTCCTATGCAAATGAACAGAATTGACCTTAC</td></tr>\n",
       "\t<tr><td>17</td><td>41276112</td><td>43124095</td><td>A</td><td>G</td><td> 797</td><td>1</td><td> 756</td><td>670</td><td> 810</td><td>⋯</td><td>GTAAGGTCAATTCTGTTCATTTGCATAGGAGATAATCATAGGAATCCCAAATTAATACACTCTTGTGCTGACTTACCAGATGGGACACTCTAAGATTTTCTGCATAGCATTAATGACATTTTGTACTTCTTCAACGCGAAGAGCAGATAAATCCATTTCTTTCTGTTCCAATGAACTTTAACACATTAGAAAAACATATATATATATCTTTTTAAAAGGTTTATAAAATGACAAC</td><td>GTAAGGTCAATTCTGTTCATTTGCATAGGAGATAATCATAGGAATCCCAAATTAATACACTCTTGTGCTGACTTACCAGATCGGACACTCTAAGATTTTCTGCATAGCATTAATGACATTTTGTACTTCTTCAACGCGAAGAGCAGATAAATCCATTTCTTTCTGTTCCAGTGAACTTTAACACATTAGAAAAACATATATATATATCTTTTTAAAAGGTTTATAAAATGACAAC</td><td>NA</td><td>NA</td><td>M</td><td>T</td><td>mis</td><td>snv</td><td>235</td><td>GTTGTCATTTTATAAACCTTTTAAAAAGATATATATATATGTTTTTCTAATGTGTTAAAGTTCACTGGAACAGAAAGAAACGGATTTATCTGCTCTTCGCGTTGAAGAAGTACAAAATGTCATTAATGCTATGCAGAAAATCTTAGAGTGTCCGATCTGGTAAGTCAGCACAAGAGTGTATTAATTTGGGATTCCTATGATTATCTCCTATGCAAATGAACAGAATTGACCTTAC</td></tr>\n",
       "\t<tr><td>17</td><td>41276112</td><td>43124095</td><td>A</td><td>C</td><td> 878</td><td>1</td><td> 799</td><td>821</td><td> 944</td><td>⋯</td><td>GTAAGGTCAATTCTGTTCATTTGCATAGGAGATAATCATAGGAATCCCAAATTAATACACTCTTGTGCTGACTTACCAGATGGGACACTCTAAGATTTTCTGCATAGCATTAATGACATTTTGTACTTCTTCAACGCGAAGAGCAGATAAATCCATTTCTTTCTGTTCCAATGAACTTTAACACATTAGAAAAACATATATATATATCTTTTTAAAAGGTTTATAAAATGACAAC</td><td>GTAAGGTCAATTCTGTTCATTTGCATAGGAGATAATCATAGGAATCCCAAATTAATACACTCTTGTGCTGACTTACCAGATCGGACACTCTAAGATTTTCTGCATAGCATTAATGACATTTTGTACTTCTTCAACGCGAAGAGCAGATAAATCCATTTCTTTCTGTTCCAGTGAACTTTAACACATTAGAAAAACATATATATATATCTTTTTAAAAGGTTTATAAAATGACAAC</td><td>NA</td><td>NA</td><td>M</td><td>R</td><td>mis</td><td>snv</td><td>235</td><td>GTTGTCATTTTATAAACCTTTTAAAAAGATATATATATATGTTTTTCTAATGTGTTAAAGTTCACTGGAACAGAAAGAAAGGGATTTATCTGCTCTTCGCGTTGAAGAAGTACAAAATGTCATTAATGCTATGCAGAAAATCTTAGAGTGTCCGATCTGGTAAGTCAGCACAAGAGTGTATTAATTTGGGATTCCTATGATTATCTCCTATGCAAATGAACAGAATTGACCTTAC</td></tr>\n",
       "</tbody>\n",
       "</table>\n"
      ],
      "text/latex": [
       "A tibble: 6 × 32\n",
       "\\begin{tabular}{lllllllllllllllllllll}\n",
       " chromosome & position\\_hg19 & position\\_GRCh38 & reference & alt & library & negative & d5.r1 & d11.r1 & d5.r2 & ⋯ & ref\\_seq & pam\\_seq & vcf\\_alias & vcf\\_var\\_id & ref\\_aa & alt\\_aa & mut\\_type & mutator & oligo\\_length & mseq\\\\\n",
       " <dbl> & <dbl> & <int> & <chr> & <chr> & <dbl> & <dbl> & <dbl> & <dbl> & <dbl> & ⋯ & <chr> & <chr> & <lgl> & <lgl> & <chr> & <chr> & <chr> & <chr> & <int> & <chr>\\\\\n",
       "\\hline\n",
       "\t 17 & 41276113 & 43124096 & T & G &  828 & 2 &  685 & 663 &  847 & ⋯ & GTAAGGTCAATTCTGTTCATTTGCATAGGAGATAATCATAGGAATCCCAAATTAATACACTCTTGTGCTGACTTACCAGATGGGACACTCTAAGATTTTCTGCATAGCATTAATGACATTTTGTACTTCTTCAACGCGAAGAGCAGATAAATCCATTTCTTTCTGTTCCAATGAACTTTAACACATTAGAAAAACATATATATATATCTTTTTAAAAGGTTTATAAAATGACAAC & GTAAGGTCAATTCTGTTCATTTGCATAGGAGATAATCATAGGAATCCCAAATTAATACACTCTTGTGCTGACTTACCAGATCGGACACTCTAAGATTTTCTGCATAGCATTAATGACATTTTGTACTTCTTCAACGCGAAGAGCAGATAAATCCATTTCTTTCTGTTCCAGTGAACTTTAACACATTAGAAAAACATATATATATATCTTTTTAAAAGGTTTATAAAATGACAAC & NA & NA & M & L & mis & snv & 235 & GTTGTCATTTTATAAACCTTTTAAAAAGATATATATATATGTTTTTCTAATGTGTTAAAGTTCACTGGAACAGAAAGAACTGGATTTATCTGCTCTTCGCGTTGAAGAAGTACAAAATGTCATTAATGCTATGCAGAAAATCTTAGAGTGTCCGATCTGGTAAGTCAGCACAAGAGTGTATTAATTTGGGATTCCTATGATTATCTCCTATGCAAATGAACAGAATTGACCTTAC\\\\\n",
       "\t 17 & 41276113 & 43124096 & T & C & 1229 & 1 & 1335 & 847 & 1179 & ⋯ & GTAAGGTCAATTCTGTTCATTTGCATAGGAGATAATCATAGGAATCCCAAATTAATACACTCTTGTGCTGACTTACCAGATGGGACACTCTAAGATTTTCTGCATAGCATTAATGACATTTTGTACTTCTTCAACGCGAAGAGCAGATAAATCCATTTCTTTCTGTTCCAATGAACTTTAACACATTAGAAAAACATATATATATATCTTTTTAAAAGGTTTATAAAATGACAAC & GTAAGGTCAATTCTGTTCATTTGCATAGGAGATAATCATAGGAATCCCAAATTAATACACTCTTGTGCTGACTTACCAGATCGGACACTCTAAGATTTTCTGCATAGCATTAATGACATTTTGTACTTCTTCAACGCGAAGAGCAGATAAATCCATTTCTTTCTGTTCCAGTGAACTTTAACACATTAGAAAAACATATATATATATCTTTTTAAAAGGTTTATAAAATGACAAC & NA & NA & M & V & mis & snv & 235 & GTTGTCATTTTATAAACCTTTTAAAAAGATATATATATATGTTTTTCTAATGTGTTAAAGTTCACTGGAACAGAAAGAAGTGGATTTATCTGCTCTTCGCGTTGAAGAAGTACAAAATGTCATTAATGCTATGCAGAAAATCTTAGAGTGTCCGATCTGGTAAGTCAGCACAAGAGTGTATTAATTTGGGATTCCTATGATTATCTCCTATGCAAATGAACAGAATTGACCTTAC\\\\\n",
       "\t 17 & 41276113 & 43124096 & T & A &  867 & 2 &  658 & 652 &  701 & ⋯ & GTAAGGTCAATTCTGTTCATTTGCATAGGAGATAATCATAGGAATCCCAAATTAATACACTCTTGTGCTGACTTACCAGATGGGACACTCTAAGATTTTCTGCATAGCATTAATGACATTTTGTACTTCTTCAACGCGAAGAGCAGATAAATCCATTTCTTTCTGTTCCAATGAACTTTAACACATTAGAAAAACATATATATATATCTTTTTAAAAGGTTTATAAAATGACAAC & GTAAGGTCAATTCTGTTCATTTGCATAGGAGATAATCATAGGAATCCCAAATTAATACACTCTTGTGCTGACTTACCAGATCGGACACTCTAAGATTTTCTGCATAGCATTAATGACATTTTGTACTTCTTCAACGCGAAGAGCAGATAAATCCATTTCTTTCTGTTCCAGTGAACTTTAACACATTAGAAAAACATATATATATATCTTTTTAAAAGGTTTATAAAATGACAAC & NA & NA & M & L & mis & snv & 235 & GTTGTCATTTTATAAACCTTTTAAAAAGATATATATATATGTTTTTCTAATGTGTTAAAGTTCACTGGAACAGAAAGAATTGGATTTATCTGCTCTTCGCGTTGAAGAAGTACAAAATGTCATTAATGCTATGCAGAAAATCTTAGAGTGTCCGATCTGGTAAGTCAGCACAAGAGTGTATTAATTTGGGATTCCTATGATTATCTCCTATGCAAATGAACAGAATTGACCTTAC\\\\\n",
       "\t 17 & 41276112 & 43124095 & A & T &  681 & 1 &  641 & 391 &  927 & ⋯ & GTAAGGTCAATTCTGTTCATTTGCATAGGAGATAATCATAGGAATCCCAAATTAATACACTCTTGTGCTGACTTACCAGATGGGACACTCTAAGATTTTCTGCATAGCATTAATGACATTTTGTACTTCTTCAACGCGAAGAGCAGATAAATCCATTTCTTTCTGTTCCAATGAACTTTAACACATTAGAAAAACATATATATATATCTTTTTAAAAGGTTTATAAAATGACAAC & GTAAGGTCAATTCTGTTCATTTGCATAGGAGATAATCATAGGAATCCCAAATTAATACACTCTTGTGCTGACTTACCAGATCGGACACTCTAAGATTTTCTGCATAGCATTAATGACATTTTGTACTTCTTCAACGCGAAGAGCAGATAAATCCATTTCTTTCTGTTCCAGTGAACTTTAACACATTAGAAAAACATATATATATATCTTTTTAAAAGGTTTATAAAATGACAAC & NA & NA & M & K & mis & snv & 235 & GTTGTCATTTTATAAACCTTTTAAAAAGATATATATATATGTTTTTCTAATGTGTTAAAGTTCACTGGAACAGAAAGAAAAGGATTTATCTGCTCTTCGCGTTGAAGAAGTACAAAATGTCATTAATGCTATGCAGAAAATCTTAGAGTGTCCGATCTGGTAAGTCAGCACAAGAGTGTATTAATTTGGGATTCCTATGATTATCTCCTATGCAAATGAACAGAATTGACCTTAC\\\\\n",
       "\t 17 & 41276112 & 43124095 & A & G &  797 & 1 &  756 & 670 &  810 & ⋯ & GTAAGGTCAATTCTGTTCATTTGCATAGGAGATAATCATAGGAATCCCAAATTAATACACTCTTGTGCTGACTTACCAGATGGGACACTCTAAGATTTTCTGCATAGCATTAATGACATTTTGTACTTCTTCAACGCGAAGAGCAGATAAATCCATTTCTTTCTGTTCCAATGAACTTTAACACATTAGAAAAACATATATATATATCTTTTTAAAAGGTTTATAAAATGACAAC & GTAAGGTCAATTCTGTTCATTTGCATAGGAGATAATCATAGGAATCCCAAATTAATACACTCTTGTGCTGACTTACCAGATCGGACACTCTAAGATTTTCTGCATAGCATTAATGACATTTTGTACTTCTTCAACGCGAAGAGCAGATAAATCCATTTCTTTCTGTTCCAGTGAACTTTAACACATTAGAAAAACATATATATATATCTTTTTAAAAGGTTTATAAAATGACAAC & NA & NA & M & T & mis & snv & 235 & GTTGTCATTTTATAAACCTTTTAAAAAGATATATATATATGTTTTTCTAATGTGTTAAAGTTCACTGGAACAGAAAGAAACGGATTTATCTGCTCTTCGCGTTGAAGAAGTACAAAATGTCATTAATGCTATGCAGAAAATCTTAGAGTGTCCGATCTGGTAAGTCAGCACAAGAGTGTATTAATTTGGGATTCCTATGATTATCTCCTATGCAAATGAACAGAATTGACCTTAC\\\\\n",
       "\t 17 & 41276112 & 43124095 & A & C &  878 & 1 &  799 & 821 &  944 & ⋯ & GTAAGGTCAATTCTGTTCATTTGCATAGGAGATAATCATAGGAATCCCAAATTAATACACTCTTGTGCTGACTTACCAGATGGGACACTCTAAGATTTTCTGCATAGCATTAATGACATTTTGTACTTCTTCAACGCGAAGAGCAGATAAATCCATTTCTTTCTGTTCCAATGAACTTTAACACATTAGAAAAACATATATATATATCTTTTTAAAAGGTTTATAAAATGACAAC & GTAAGGTCAATTCTGTTCATTTGCATAGGAGATAATCATAGGAATCCCAAATTAATACACTCTTGTGCTGACTTACCAGATCGGACACTCTAAGATTTTCTGCATAGCATTAATGACATTTTGTACTTCTTCAACGCGAAGAGCAGATAAATCCATTTCTTTCTGTTCCAGTGAACTTTAACACATTAGAAAAACATATATATATATCTTTTTAAAAGGTTTATAAAATGACAAC & NA & NA & M & R & mis & snv & 235 & GTTGTCATTTTATAAACCTTTTAAAAAGATATATATATATGTTTTTCTAATGTGTTAAAGTTCACTGGAACAGAAAGAAAGGGATTTATCTGCTCTTCGCGTTGAAGAAGTACAAAATGTCATTAATGCTATGCAGAAAATCTTAGAGTGTCCGATCTGGTAAGTCAGCACAAGAGTGTATTAATTTGGGATTCCTATGATTATCTCCTATGCAAATGAACAGAATTGACCTTAC\\\\\n",
       "\\end{tabular}\n"
      ],
      "text/markdown": [
       "\n",
       "A tibble: 6 × 32\n",
       "\n",
       "| chromosome &lt;dbl&gt; | position_hg19 &lt;dbl&gt; | position_GRCh38 &lt;int&gt; | reference &lt;chr&gt; | alt &lt;chr&gt; | library &lt;dbl&gt; | negative &lt;dbl&gt; | d5.r1 &lt;dbl&gt; | d11.r1 &lt;dbl&gt; | d5.r2 &lt;dbl&gt; | ⋯ ⋯ | ref_seq &lt;chr&gt; | pam_seq &lt;chr&gt; | vcf_alias &lt;lgl&gt; | vcf_var_id &lt;lgl&gt; | ref_aa &lt;chr&gt; | alt_aa &lt;chr&gt; | mut_type &lt;chr&gt; | mutator &lt;chr&gt; | oligo_length &lt;int&gt; | mseq &lt;chr&gt; |\n",
       "|---|---|---|---|---|---|---|---|---|---|---|---|---|---|---|---|---|---|---|---|---|\n",
       "| 17 | 41276113 | 43124096 | T | G |  828 | 2 |  685 | 663 |  847 | ⋯ | GTAAGGTCAATTCTGTTCATTTGCATAGGAGATAATCATAGGAATCCCAAATTAATACACTCTTGTGCTGACTTACCAGATGGGACACTCTAAGATTTTCTGCATAGCATTAATGACATTTTGTACTTCTTCAACGCGAAGAGCAGATAAATCCATTTCTTTCTGTTCCAATGAACTTTAACACATTAGAAAAACATATATATATATCTTTTTAAAAGGTTTATAAAATGACAAC | GTAAGGTCAATTCTGTTCATTTGCATAGGAGATAATCATAGGAATCCCAAATTAATACACTCTTGTGCTGACTTACCAGATCGGACACTCTAAGATTTTCTGCATAGCATTAATGACATTTTGTACTTCTTCAACGCGAAGAGCAGATAAATCCATTTCTTTCTGTTCCAGTGAACTTTAACACATTAGAAAAACATATATATATATCTTTTTAAAAGGTTTATAAAATGACAAC | NA | NA | M | L | mis | snv | 235 | GTTGTCATTTTATAAACCTTTTAAAAAGATATATATATATGTTTTTCTAATGTGTTAAAGTTCACTGGAACAGAAAGAACTGGATTTATCTGCTCTTCGCGTTGAAGAAGTACAAAATGTCATTAATGCTATGCAGAAAATCTTAGAGTGTCCGATCTGGTAAGTCAGCACAAGAGTGTATTAATTTGGGATTCCTATGATTATCTCCTATGCAAATGAACAGAATTGACCTTAC |\n",
       "| 17 | 41276113 | 43124096 | T | C | 1229 | 1 | 1335 | 847 | 1179 | ⋯ | GTAAGGTCAATTCTGTTCATTTGCATAGGAGATAATCATAGGAATCCCAAATTAATACACTCTTGTGCTGACTTACCAGATGGGACACTCTAAGATTTTCTGCATAGCATTAATGACATTTTGTACTTCTTCAACGCGAAGAGCAGATAAATCCATTTCTTTCTGTTCCAATGAACTTTAACACATTAGAAAAACATATATATATATCTTTTTAAAAGGTTTATAAAATGACAAC | GTAAGGTCAATTCTGTTCATTTGCATAGGAGATAATCATAGGAATCCCAAATTAATACACTCTTGTGCTGACTTACCAGATCGGACACTCTAAGATTTTCTGCATAGCATTAATGACATTTTGTACTTCTTCAACGCGAAGAGCAGATAAATCCATTTCTTTCTGTTCCAGTGAACTTTAACACATTAGAAAAACATATATATATATCTTTTTAAAAGGTTTATAAAATGACAAC | NA | NA | M | V | mis | snv | 235 | GTTGTCATTTTATAAACCTTTTAAAAAGATATATATATATGTTTTTCTAATGTGTTAAAGTTCACTGGAACAGAAAGAAGTGGATTTATCTGCTCTTCGCGTTGAAGAAGTACAAAATGTCATTAATGCTATGCAGAAAATCTTAGAGTGTCCGATCTGGTAAGTCAGCACAAGAGTGTATTAATTTGGGATTCCTATGATTATCTCCTATGCAAATGAACAGAATTGACCTTAC |\n",
       "| 17 | 41276113 | 43124096 | T | A |  867 | 2 |  658 | 652 |  701 | ⋯ | GTAAGGTCAATTCTGTTCATTTGCATAGGAGATAATCATAGGAATCCCAAATTAATACACTCTTGTGCTGACTTACCAGATGGGACACTCTAAGATTTTCTGCATAGCATTAATGACATTTTGTACTTCTTCAACGCGAAGAGCAGATAAATCCATTTCTTTCTGTTCCAATGAACTTTAACACATTAGAAAAACATATATATATATCTTTTTAAAAGGTTTATAAAATGACAAC | GTAAGGTCAATTCTGTTCATTTGCATAGGAGATAATCATAGGAATCCCAAATTAATACACTCTTGTGCTGACTTACCAGATCGGACACTCTAAGATTTTCTGCATAGCATTAATGACATTTTGTACTTCTTCAACGCGAAGAGCAGATAAATCCATTTCTTTCTGTTCCAGTGAACTTTAACACATTAGAAAAACATATATATATATCTTTTTAAAAGGTTTATAAAATGACAAC | NA | NA | M | L | mis | snv | 235 | GTTGTCATTTTATAAACCTTTTAAAAAGATATATATATATGTTTTTCTAATGTGTTAAAGTTCACTGGAACAGAAAGAATTGGATTTATCTGCTCTTCGCGTTGAAGAAGTACAAAATGTCATTAATGCTATGCAGAAAATCTTAGAGTGTCCGATCTGGTAAGTCAGCACAAGAGTGTATTAATTTGGGATTCCTATGATTATCTCCTATGCAAATGAACAGAATTGACCTTAC |\n",
       "| 17 | 41276112 | 43124095 | A | T |  681 | 1 |  641 | 391 |  927 | ⋯ | GTAAGGTCAATTCTGTTCATTTGCATAGGAGATAATCATAGGAATCCCAAATTAATACACTCTTGTGCTGACTTACCAGATGGGACACTCTAAGATTTTCTGCATAGCATTAATGACATTTTGTACTTCTTCAACGCGAAGAGCAGATAAATCCATTTCTTTCTGTTCCAATGAACTTTAACACATTAGAAAAACATATATATATATCTTTTTAAAAGGTTTATAAAATGACAAC | GTAAGGTCAATTCTGTTCATTTGCATAGGAGATAATCATAGGAATCCCAAATTAATACACTCTTGTGCTGACTTACCAGATCGGACACTCTAAGATTTTCTGCATAGCATTAATGACATTTTGTACTTCTTCAACGCGAAGAGCAGATAAATCCATTTCTTTCTGTTCCAGTGAACTTTAACACATTAGAAAAACATATATATATATCTTTTTAAAAGGTTTATAAAATGACAAC | NA | NA | M | K | mis | snv | 235 | GTTGTCATTTTATAAACCTTTTAAAAAGATATATATATATGTTTTTCTAATGTGTTAAAGTTCACTGGAACAGAAAGAAAAGGATTTATCTGCTCTTCGCGTTGAAGAAGTACAAAATGTCATTAATGCTATGCAGAAAATCTTAGAGTGTCCGATCTGGTAAGTCAGCACAAGAGTGTATTAATTTGGGATTCCTATGATTATCTCCTATGCAAATGAACAGAATTGACCTTAC |\n",
       "| 17 | 41276112 | 43124095 | A | G |  797 | 1 |  756 | 670 |  810 | ⋯ | GTAAGGTCAATTCTGTTCATTTGCATAGGAGATAATCATAGGAATCCCAAATTAATACACTCTTGTGCTGACTTACCAGATGGGACACTCTAAGATTTTCTGCATAGCATTAATGACATTTTGTACTTCTTCAACGCGAAGAGCAGATAAATCCATTTCTTTCTGTTCCAATGAACTTTAACACATTAGAAAAACATATATATATATCTTTTTAAAAGGTTTATAAAATGACAAC | GTAAGGTCAATTCTGTTCATTTGCATAGGAGATAATCATAGGAATCCCAAATTAATACACTCTTGTGCTGACTTACCAGATCGGACACTCTAAGATTTTCTGCATAGCATTAATGACATTTTGTACTTCTTCAACGCGAAGAGCAGATAAATCCATTTCTTTCTGTTCCAGTGAACTTTAACACATTAGAAAAACATATATATATATCTTTTTAAAAGGTTTATAAAATGACAAC | NA | NA | M | T | mis | snv | 235 | GTTGTCATTTTATAAACCTTTTAAAAAGATATATATATATGTTTTTCTAATGTGTTAAAGTTCACTGGAACAGAAAGAAACGGATTTATCTGCTCTTCGCGTTGAAGAAGTACAAAATGTCATTAATGCTATGCAGAAAATCTTAGAGTGTCCGATCTGGTAAGTCAGCACAAGAGTGTATTAATTTGGGATTCCTATGATTATCTCCTATGCAAATGAACAGAATTGACCTTAC |\n",
       "| 17 | 41276112 | 43124095 | A | C |  878 | 1 |  799 | 821 |  944 | ⋯ | GTAAGGTCAATTCTGTTCATTTGCATAGGAGATAATCATAGGAATCCCAAATTAATACACTCTTGTGCTGACTTACCAGATGGGACACTCTAAGATTTTCTGCATAGCATTAATGACATTTTGTACTTCTTCAACGCGAAGAGCAGATAAATCCATTTCTTTCTGTTCCAATGAACTTTAACACATTAGAAAAACATATATATATATCTTTTTAAAAGGTTTATAAAATGACAAC | GTAAGGTCAATTCTGTTCATTTGCATAGGAGATAATCATAGGAATCCCAAATTAATACACTCTTGTGCTGACTTACCAGATCGGACACTCTAAGATTTTCTGCATAGCATTAATGACATTTTGTACTTCTTCAACGCGAAGAGCAGATAAATCCATTTCTTTCTGTTCCAGTGAACTTTAACACATTAGAAAAACATATATATATATCTTTTTAAAAGGTTTATAAAATGACAAC | NA | NA | M | R | mis | snv | 235 | GTTGTCATTTTATAAACCTTTTAAAAAGATATATATATATGTTTTTCTAATGTGTTAAAGTTCACTGGAACAGAAAGAAAGGGATTTATCTGCTCTTCGCGTTGAAGAAGTACAAAATGTCATTAATGCTATGCAGAAAATCTTAGAGTGTCCGATCTGGTAAGTCAGCACAAGAGTGTATTAATTTGGGATTCCTATGATTATCTCCTATGCAAATGAACAGAATTGACCTTAC |\n",
       "\n"
      ],
      "text/plain": [
       "  chromosome position_hg19 position_GRCh38 reference alt library negative d5.r1\n",
       "1 17         41276113      43124096        T         G    828    2         685 \n",
       "2 17         41276113      43124096        T         C   1229    1        1335 \n",
       "3 17         41276113      43124096        T         A    867    2         658 \n",
       "4 17         41276112      43124095        A         T    681    1         641 \n",
       "5 17         41276112      43124095        A         G    797    1         756 \n",
       "6 17         41276112      43124095        A         C    878    1         799 \n",
       "  d11.r1 d5.r2 ⋯\n",
       "1 663     847  ⋯\n",
       "2 847    1179  ⋯\n",
       "3 652     701  ⋯\n",
       "4 391     927  ⋯\n",
       "5 670     810  ⋯\n",
       "6 821     944  ⋯\n",
       "  ref_seq                                                                                                                                                                                                                                    \n",
       "1 GTAAGGTCAATTCTGTTCATTTGCATAGGAGATAATCATAGGAATCCCAAATTAATACACTCTTGTGCTGACTTACCAGATGGGACACTCTAAGATTTTCTGCATAGCATTAATGACATTTTGTACTTCTTCAACGCGAAGAGCAGATAAATCCATTTCTTTCTGTTCCAATGAACTTTAACACATTAGAAAAACATATATATATATCTTTTTAAAAGGTTTATAAAATGACAAC\n",
       "2 GTAAGGTCAATTCTGTTCATTTGCATAGGAGATAATCATAGGAATCCCAAATTAATACACTCTTGTGCTGACTTACCAGATGGGACACTCTAAGATTTTCTGCATAGCATTAATGACATTTTGTACTTCTTCAACGCGAAGAGCAGATAAATCCATTTCTTTCTGTTCCAATGAACTTTAACACATTAGAAAAACATATATATATATCTTTTTAAAAGGTTTATAAAATGACAAC\n",
       "3 GTAAGGTCAATTCTGTTCATTTGCATAGGAGATAATCATAGGAATCCCAAATTAATACACTCTTGTGCTGACTTACCAGATGGGACACTCTAAGATTTTCTGCATAGCATTAATGACATTTTGTACTTCTTCAACGCGAAGAGCAGATAAATCCATTTCTTTCTGTTCCAATGAACTTTAACACATTAGAAAAACATATATATATATCTTTTTAAAAGGTTTATAAAATGACAAC\n",
       "4 GTAAGGTCAATTCTGTTCATTTGCATAGGAGATAATCATAGGAATCCCAAATTAATACACTCTTGTGCTGACTTACCAGATGGGACACTCTAAGATTTTCTGCATAGCATTAATGACATTTTGTACTTCTTCAACGCGAAGAGCAGATAAATCCATTTCTTTCTGTTCCAATGAACTTTAACACATTAGAAAAACATATATATATATCTTTTTAAAAGGTTTATAAAATGACAAC\n",
       "5 GTAAGGTCAATTCTGTTCATTTGCATAGGAGATAATCATAGGAATCCCAAATTAATACACTCTTGTGCTGACTTACCAGATGGGACACTCTAAGATTTTCTGCATAGCATTAATGACATTTTGTACTTCTTCAACGCGAAGAGCAGATAAATCCATTTCTTTCTGTTCCAATGAACTTTAACACATTAGAAAAACATATATATATATCTTTTTAAAAGGTTTATAAAATGACAAC\n",
       "6 GTAAGGTCAATTCTGTTCATTTGCATAGGAGATAATCATAGGAATCCCAAATTAATACACTCTTGTGCTGACTTACCAGATGGGACACTCTAAGATTTTCTGCATAGCATTAATGACATTTTGTACTTCTTCAACGCGAAGAGCAGATAAATCCATTTCTTTCTGTTCCAATGAACTTTAACACATTAGAAAAACATATATATATATCTTTTTAAAAGGTTTATAAAATGACAAC\n",
       "  pam_seq                                                                                                                                                                                                                                    \n",
       "1 GTAAGGTCAATTCTGTTCATTTGCATAGGAGATAATCATAGGAATCCCAAATTAATACACTCTTGTGCTGACTTACCAGATCGGACACTCTAAGATTTTCTGCATAGCATTAATGACATTTTGTACTTCTTCAACGCGAAGAGCAGATAAATCCATTTCTTTCTGTTCCAGTGAACTTTAACACATTAGAAAAACATATATATATATCTTTTTAAAAGGTTTATAAAATGACAAC\n",
       "2 GTAAGGTCAATTCTGTTCATTTGCATAGGAGATAATCATAGGAATCCCAAATTAATACACTCTTGTGCTGACTTACCAGATCGGACACTCTAAGATTTTCTGCATAGCATTAATGACATTTTGTACTTCTTCAACGCGAAGAGCAGATAAATCCATTTCTTTCTGTTCCAGTGAACTTTAACACATTAGAAAAACATATATATATATCTTTTTAAAAGGTTTATAAAATGACAAC\n",
       "3 GTAAGGTCAATTCTGTTCATTTGCATAGGAGATAATCATAGGAATCCCAAATTAATACACTCTTGTGCTGACTTACCAGATCGGACACTCTAAGATTTTCTGCATAGCATTAATGACATTTTGTACTTCTTCAACGCGAAGAGCAGATAAATCCATTTCTTTCTGTTCCAGTGAACTTTAACACATTAGAAAAACATATATATATATCTTTTTAAAAGGTTTATAAAATGACAAC\n",
       "4 GTAAGGTCAATTCTGTTCATTTGCATAGGAGATAATCATAGGAATCCCAAATTAATACACTCTTGTGCTGACTTACCAGATCGGACACTCTAAGATTTTCTGCATAGCATTAATGACATTTTGTACTTCTTCAACGCGAAGAGCAGATAAATCCATTTCTTTCTGTTCCAGTGAACTTTAACACATTAGAAAAACATATATATATATCTTTTTAAAAGGTTTATAAAATGACAAC\n",
       "5 GTAAGGTCAATTCTGTTCATTTGCATAGGAGATAATCATAGGAATCCCAAATTAATACACTCTTGTGCTGACTTACCAGATCGGACACTCTAAGATTTTCTGCATAGCATTAATGACATTTTGTACTTCTTCAACGCGAAGAGCAGATAAATCCATTTCTTTCTGTTCCAGTGAACTTTAACACATTAGAAAAACATATATATATATCTTTTTAAAAGGTTTATAAAATGACAAC\n",
       "6 GTAAGGTCAATTCTGTTCATTTGCATAGGAGATAATCATAGGAATCCCAAATTAATACACTCTTGTGCTGACTTACCAGATCGGACACTCTAAGATTTTCTGCATAGCATTAATGACATTTTGTACTTCTTCAACGCGAAGAGCAGATAAATCCATTTCTTTCTGTTCCAGTGAACTTTAACACATTAGAAAAACATATATATATATCTTTTTAAAAGGTTTATAAAATGACAAC\n",
       "  vcf_alias vcf_var_id ref_aa alt_aa mut_type mutator oligo_length\n",
       "1 NA        NA         M      L      mis      snv     235         \n",
       "2 NA        NA         M      V      mis      snv     235         \n",
       "3 NA        NA         M      L      mis      snv     235         \n",
       "4 NA        NA         M      K      mis      snv     235         \n",
       "5 NA        NA         M      T      mis      snv     235         \n",
       "6 NA        NA         M      R      mis      snv     235         \n",
       "  mseq                                                                                                                                                                                                                                       \n",
       "1 GTTGTCATTTTATAAACCTTTTAAAAAGATATATATATATGTTTTTCTAATGTGTTAAAGTTCACTGGAACAGAAAGAACTGGATTTATCTGCTCTTCGCGTTGAAGAAGTACAAAATGTCATTAATGCTATGCAGAAAATCTTAGAGTGTCCGATCTGGTAAGTCAGCACAAGAGTGTATTAATTTGGGATTCCTATGATTATCTCCTATGCAAATGAACAGAATTGACCTTAC\n",
       "2 GTTGTCATTTTATAAACCTTTTAAAAAGATATATATATATGTTTTTCTAATGTGTTAAAGTTCACTGGAACAGAAAGAAGTGGATTTATCTGCTCTTCGCGTTGAAGAAGTACAAAATGTCATTAATGCTATGCAGAAAATCTTAGAGTGTCCGATCTGGTAAGTCAGCACAAGAGTGTATTAATTTGGGATTCCTATGATTATCTCCTATGCAAATGAACAGAATTGACCTTAC\n",
       "3 GTTGTCATTTTATAAACCTTTTAAAAAGATATATATATATGTTTTTCTAATGTGTTAAAGTTCACTGGAACAGAAAGAATTGGATTTATCTGCTCTTCGCGTTGAAGAAGTACAAAATGTCATTAATGCTATGCAGAAAATCTTAGAGTGTCCGATCTGGTAAGTCAGCACAAGAGTGTATTAATTTGGGATTCCTATGATTATCTCCTATGCAAATGAACAGAATTGACCTTAC\n",
       "4 GTTGTCATTTTATAAACCTTTTAAAAAGATATATATATATGTTTTTCTAATGTGTTAAAGTTCACTGGAACAGAAAGAAAAGGATTTATCTGCTCTTCGCGTTGAAGAAGTACAAAATGTCATTAATGCTATGCAGAAAATCTTAGAGTGTCCGATCTGGTAAGTCAGCACAAGAGTGTATTAATTTGGGATTCCTATGATTATCTCCTATGCAAATGAACAGAATTGACCTTAC\n",
       "5 GTTGTCATTTTATAAACCTTTTAAAAAGATATATATATATGTTTTTCTAATGTGTTAAAGTTCACTGGAACAGAAAGAAACGGATTTATCTGCTCTTCGCGTTGAAGAAGTACAAAATGTCATTAATGCTATGCAGAAAATCTTAGAGTGTCCGATCTGGTAAGTCAGCACAAGAGTGTATTAATTTGGGATTCCTATGATTATCTCCTATGCAAATGAACAGAATTGACCTTAC\n",
       "6 GTTGTCATTTTATAAACCTTTTAAAAAGATATATATATATGTTTTTCTAATGTGTTAAAGTTCACTGGAACAGAAAGAAAGGGATTTATCTGCTCTTCGCGTTGAAGAAGTACAAAATGTCATTAATGCTATGCAGAAAATCTTAGAGTGTCCGATCTGGTAAGTCAGCACAAGAGTGTATTAATTTGGGATTCCTATGATTATCTCCTATGCAAATGAACAGAATTGACCTTAC"
      ]
     },
     "metadata": {},
     "output_type": "display_data"
    }
   ],
   "source": [
    "# Combine raw counts with VaLiAnT oligos using lift over coordinates and ref/alt annotations\n",
    "combined_annotations <- findlay_raw_counts %>% \n",
    "    filter(position_GRCh38 %in% brca1_exon2_valiant_lib$mut_position) %>%\n",
    "    left_join(brca1_exon2_valiant_lib, by = c('position_GRCh38' = 'mut_position', 'reference' = 'ref', 'alt' = 'new')) %>%\n",
    "    unique()\n",
    "\n",
    "# Write combined annotations to file\n",
    "write.table(combined_annotations, 'combined_findlay_valiant_annotations_and_counts.tsv', sep = \"\\t\", row.names = F, quote = F)\n",
    "\n",
    "# Show data frame\n",
    "head(combined_annotations)"
   ]
  },
  {
   "cell_type": "markdown",
   "id": "7f9a8822-6e98-4437-b7fa-c10783299385",
   "metadata": {},
   "source": [
    "***"
   ]
  },
  {
   "cell_type": "markdown",
   "id": "d1bbee4e-3f03-4164-93f2-39e7c3a2d420",
   "metadata": {},
   "source": [
    "## Convert VaLiAnT library for use with pyCROQUET\n",
    "\n",
    "[QUANTS](https://github.com/cancerit/QUANTS) is a Nextflow pipeline which is comprised of several stages which leverage existing software. Quantification of oligo abundance is performed by [pyCROQUET](https://github.com/cancerit/pycroquet) which has a pre-defined library format which is described in the [pyCROQUET wiki](https://github.com/cancerit/pycroquet/wiki/Guide-library-format)."
   ]
  },
  {
   "cell_type": "code",
   "execution_count": 8,
   "id": "de2a9eff-0997-4d25-afea-d03a40b76ceb",
   "metadata": {},
   "outputs": [
    {
     "data": {
      "text/html": [
       "<table class=\"dataframe\">\n",
       "<caption>A tibble: 6 × 4</caption>\n",
       "<thead>\n",
       "\t<tr><th scope=col>id</th><th scope=col>sgrna_ids</th><th scope=col>sgrna_seqs</th><th scope=col>gene_pair_id</th></tr>\n",
       "\t<tr><th scope=col>&lt;chr&gt;</th><th scope=col>&lt;chr&gt;</th><th scope=col>&lt;chr&gt;</th><th scope=col>&lt;chr&gt;</th></tr>\n",
       "</thead>\n",
       "<tbody>\n",
       "\t<tr><td>ENST00000357654.9.ENSG00000012048.23_chr17:43124096_T&gt;G_snv_rc</td><td>ENST00000357654.9.ENSG00000012048.23_chr17:43124096_T&gt;G_snv_rc</td><td>GTTGTCATTTTATAAACCTTTTAAAAAGATATATATATATGTTTTTCTAATGTGTTAAAGTTCACTGGAACAGAAAGAACTGGATTTATCTGCTCTTCGCGTTGAAGAAGTACAAAATGTCATTAATGCTATGCAGAAAATCTTAGAGTGTCCGATCTGGTAAGTCAGCACAAGAGTGTATTAATTTGGGATTCCTATGATTATCTCCTATGCAAATGAACAGAATTGACCTTAC</td><td>BRCA1_exon2_CDS</td></tr>\n",
       "\t<tr><td>ENST00000357654.9.ENSG00000012048.23_chr17:43124096_T&gt;C_snv_rc</td><td>ENST00000357654.9.ENSG00000012048.23_chr17:43124096_T&gt;C_snv_rc</td><td>GTTGTCATTTTATAAACCTTTTAAAAAGATATATATATATGTTTTTCTAATGTGTTAAAGTTCACTGGAACAGAAAGAAGTGGATTTATCTGCTCTTCGCGTTGAAGAAGTACAAAATGTCATTAATGCTATGCAGAAAATCTTAGAGTGTCCGATCTGGTAAGTCAGCACAAGAGTGTATTAATTTGGGATTCCTATGATTATCTCCTATGCAAATGAACAGAATTGACCTTAC</td><td>BRCA1_exon2_CDS</td></tr>\n",
       "\t<tr><td>ENST00000357654.9.ENSG00000012048.23_chr17:43124096_T&gt;A_snv_rc</td><td>ENST00000357654.9.ENSG00000012048.23_chr17:43124096_T&gt;A_snv_rc</td><td>GTTGTCATTTTATAAACCTTTTAAAAAGATATATATATATGTTTTTCTAATGTGTTAAAGTTCACTGGAACAGAAAGAATTGGATTTATCTGCTCTTCGCGTTGAAGAAGTACAAAATGTCATTAATGCTATGCAGAAAATCTTAGAGTGTCCGATCTGGTAAGTCAGCACAAGAGTGTATTAATTTGGGATTCCTATGATTATCTCCTATGCAAATGAACAGAATTGACCTTAC</td><td>BRCA1_exon2_CDS</td></tr>\n",
       "\t<tr><td>ENST00000357654.9.ENSG00000012048.23_chr17:43124095_A&gt;T_snv_rc</td><td>ENST00000357654.9.ENSG00000012048.23_chr17:43124095_A&gt;T_snv_rc</td><td>GTTGTCATTTTATAAACCTTTTAAAAAGATATATATATATGTTTTTCTAATGTGTTAAAGTTCACTGGAACAGAAAGAAAAGGATTTATCTGCTCTTCGCGTTGAAGAAGTACAAAATGTCATTAATGCTATGCAGAAAATCTTAGAGTGTCCGATCTGGTAAGTCAGCACAAGAGTGTATTAATTTGGGATTCCTATGATTATCTCCTATGCAAATGAACAGAATTGACCTTAC</td><td>BRCA1_exon2_CDS</td></tr>\n",
       "\t<tr><td>ENST00000357654.9.ENSG00000012048.23_chr17:43124095_A&gt;G_snv_rc</td><td>ENST00000357654.9.ENSG00000012048.23_chr17:43124095_A&gt;G_snv_rc</td><td>GTTGTCATTTTATAAACCTTTTAAAAAGATATATATATATGTTTTTCTAATGTGTTAAAGTTCACTGGAACAGAAAGAAACGGATTTATCTGCTCTTCGCGTTGAAGAAGTACAAAATGTCATTAATGCTATGCAGAAAATCTTAGAGTGTCCGATCTGGTAAGTCAGCACAAGAGTGTATTAATTTGGGATTCCTATGATTATCTCCTATGCAAATGAACAGAATTGACCTTAC</td><td>BRCA1_exon2_CDS</td></tr>\n",
       "\t<tr><td>ENST00000357654.9.ENSG00000012048.23_chr17:43124095_A&gt;C_snv_rc</td><td>ENST00000357654.9.ENSG00000012048.23_chr17:43124095_A&gt;C_snv_rc</td><td>GTTGTCATTTTATAAACCTTTTAAAAAGATATATATATATGTTTTTCTAATGTGTTAAAGTTCACTGGAACAGAAAGAAAGGGATTTATCTGCTCTTCGCGTTGAAGAAGTACAAAATGTCATTAATGCTATGCAGAAAATCTTAGAGTGTCCGATCTGGTAAGTCAGCACAAGAGTGTATTAATTTGGGATTCCTATGATTATCTCCTATGCAAATGAACAGAATTGACCTTAC</td><td>BRCA1_exon2_CDS</td></tr>\n",
       "</tbody>\n",
       "</table>\n"
      ],
      "text/latex": [
       "A tibble: 6 × 4\n",
       "\\begin{tabular}{llll}\n",
       " id & sgrna\\_ids & sgrna\\_seqs & gene\\_pair\\_id\\\\\n",
       " <chr> & <chr> & <chr> & <chr>\\\\\n",
       "\\hline\n",
       "\t ENST00000357654.9.ENSG00000012048.23\\_chr17:43124096\\_T>G\\_snv\\_rc & ENST00000357654.9.ENSG00000012048.23\\_chr17:43124096\\_T>G\\_snv\\_rc & GTTGTCATTTTATAAACCTTTTAAAAAGATATATATATATGTTTTTCTAATGTGTTAAAGTTCACTGGAACAGAAAGAACTGGATTTATCTGCTCTTCGCGTTGAAGAAGTACAAAATGTCATTAATGCTATGCAGAAAATCTTAGAGTGTCCGATCTGGTAAGTCAGCACAAGAGTGTATTAATTTGGGATTCCTATGATTATCTCCTATGCAAATGAACAGAATTGACCTTAC & BRCA1\\_exon2\\_CDS\\\\\n",
       "\t ENST00000357654.9.ENSG00000012048.23\\_chr17:43124096\\_T>C\\_snv\\_rc & ENST00000357654.9.ENSG00000012048.23\\_chr17:43124096\\_T>C\\_snv\\_rc & GTTGTCATTTTATAAACCTTTTAAAAAGATATATATATATGTTTTTCTAATGTGTTAAAGTTCACTGGAACAGAAAGAAGTGGATTTATCTGCTCTTCGCGTTGAAGAAGTACAAAATGTCATTAATGCTATGCAGAAAATCTTAGAGTGTCCGATCTGGTAAGTCAGCACAAGAGTGTATTAATTTGGGATTCCTATGATTATCTCCTATGCAAATGAACAGAATTGACCTTAC & BRCA1\\_exon2\\_CDS\\\\\n",
       "\t ENST00000357654.9.ENSG00000012048.23\\_chr17:43124096\\_T>A\\_snv\\_rc & ENST00000357654.9.ENSG00000012048.23\\_chr17:43124096\\_T>A\\_snv\\_rc & GTTGTCATTTTATAAACCTTTTAAAAAGATATATATATATGTTTTTCTAATGTGTTAAAGTTCACTGGAACAGAAAGAATTGGATTTATCTGCTCTTCGCGTTGAAGAAGTACAAAATGTCATTAATGCTATGCAGAAAATCTTAGAGTGTCCGATCTGGTAAGTCAGCACAAGAGTGTATTAATTTGGGATTCCTATGATTATCTCCTATGCAAATGAACAGAATTGACCTTAC & BRCA1\\_exon2\\_CDS\\\\\n",
       "\t ENST00000357654.9.ENSG00000012048.23\\_chr17:43124095\\_A>T\\_snv\\_rc & ENST00000357654.9.ENSG00000012048.23\\_chr17:43124095\\_A>T\\_snv\\_rc & GTTGTCATTTTATAAACCTTTTAAAAAGATATATATATATGTTTTTCTAATGTGTTAAAGTTCACTGGAACAGAAAGAAAAGGATTTATCTGCTCTTCGCGTTGAAGAAGTACAAAATGTCATTAATGCTATGCAGAAAATCTTAGAGTGTCCGATCTGGTAAGTCAGCACAAGAGTGTATTAATTTGGGATTCCTATGATTATCTCCTATGCAAATGAACAGAATTGACCTTAC & BRCA1\\_exon2\\_CDS\\\\\n",
       "\t ENST00000357654.9.ENSG00000012048.23\\_chr17:43124095\\_A>G\\_snv\\_rc & ENST00000357654.9.ENSG00000012048.23\\_chr17:43124095\\_A>G\\_snv\\_rc & GTTGTCATTTTATAAACCTTTTAAAAAGATATATATATATGTTTTTCTAATGTGTTAAAGTTCACTGGAACAGAAAGAAACGGATTTATCTGCTCTTCGCGTTGAAGAAGTACAAAATGTCATTAATGCTATGCAGAAAATCTTAGAGTGTCCGATCTGGTAAGTCAGCACAAGAGTGTATTAATTTGGGATTCCTATGATTATCTCCTATGCAAATGAACAGAATTGACCTTAC & BRCA1\\_exon2\\_CDS\\\\\n",
       "\t ENST00000357654.9.ENSG00000012048.23\\_chr17:43124095\\_A>C\\_snv\\_rc & ENST00000357654.9.ENSG00000012048.23\\_chr17:43124095\\_A>C\\_snv\\_rc & GTTGTCATTTTATAAACCTTTTAAAAAGATATATATATATGTTTTTCTAATGTGTTAAAGTTCACTGGAACAGAAAGAAAGGGATTTATCTGCTCTTCGCGTTGAAGAAGTACAAAATGTCATTAATGCTATGCAGAAAATCTTAGAGTGTCCGATCTGGTAAGTCAGCACAAGAGTGTATTAATTTGGGATTCCTATGATTATCTCCTATGCAAATGAACAGAATTGACCTTAC & BRCA1\\_exon2\\_CDS\\\\\n",
       "\\end{tabular}\n"
      ],
      "text/markdown": [
       "\n",
       "A tibble: 6 × 4\n",
       "\n",
       "| id &lt;chr&gt; | sgrna_ids &lt;chr&gt; | sgrna_seqs &lt;chr&gt; | gene_pair_id &lt;chr&gt; |\n",
       "|---|---|---|---|\n",
       "| ENST00000357654.9.ENSG00000012048.23_chr17:43124096_T&gt;G_snv_rc | ENST00000357654.9.ENSG00000012048.23_chr17:43124096_T&gt;G_snv_rc | GTTGTCATTTTATAAACCTTTTAAAAAGATATATATATATGTTTTTCTAATGTGTTAAAGTTCACTGGAACAGAAAGAACTGGATTTATCTGCTCTTCGCGTTGAAGAAGTACAAAATGTCATTAATGCTATGCAGAAAATCTTAGAGTGTCCGATCTGGTAAGTCAGCACAAGAGTGTATTAATTTGGGATTCCTATGATTATCTCCTATGCAAATGAACAGAATTGACCTTAC | BRCA1_exon2_CDS |\n",
       "| ENST00000357654.9.ENSG00000012048.23_chr17:43124096_T&gt;C_snv_rc | ENST00000357654.9.ENSG00000012048.23_chr17:43124096_T&gt;C_snv_rc | GTTGTCATTTTATAAACCTTTTAAAAAGATATATATATATGTTTTTCTAATGTGTTAAAGTTCACTGGAACAGAAAGAAGTGGATTTATCTGCTCTTCGCGTTGAAGAAGTACAAAATGTCATTAATGCTATGCAGAAAATCTTAGAGTGTCCGATCTGGTAAGTCAGCACAAGAGTGTATTAATTTGGGATTCCTATGATTATCTCCTATGCAAATGAACAGAATTGACCTTAC | BRCA1_exon2_CDS |\n",
       "| ENST00000357654.9.ENSG00000012048.23_chr17:43124096_T&gt;A_snv_rc | ENST00000357654.9.ENSG00000012048.23_chr17:43124096_T&gt;A_snv_rc | GTTGTCATTTTATAAACCTTTTAAAAAGATATATATATATGTTTTTCTAATGTGTTAAAGTTCACTGGAACAGAAAGAATTGGATTTATCTGCTCTTCGCGTTGAAGAAGTACAAAATGTCATTAATGCTATGCAGAAAATCTTAGAGTGTCCGATCTGGTAAGTCAGCACAAGAGTGTATTAATTTGGGATTCCTATGATTATCTCCTATGCAAATGAACAGAATTGACCTTAC | BRCA1_exon2_CDS |\n",
       "| ENST00000357654.9.ENSG00000012048.23_chr17:43124095_A&gt;T_snv_rc | ENST00000357654.9.ENSG00000012048.23_chr17:43124095_A&gt;T_snv_rc | GTTGTCATTTTATAAACCTTTTAAAAAGATATATATATATGTTTTTCTAATGTGTTAAAGTTCACTGGAACAGAAAGAAAAGGATTTATCTGCTCTTCGCGTTGAAGAAGTACAAAATGTCATTAATGCTATGCAGAAAATCTTAGAGTGTCCGATCTGGTAAGTCAGCACAAGAGTGTATTAATTTGGGATTCCTATGATTATCTCCTATGCAAATGAACAGAATTGACCTTAC | BRCA1_exon2_CDS |\n",
       "| ENST00000357654.9.ENSG00000012048.23_chr17:43124095_A&gt;G_snv_rc | ENST00000357654.9.ENSG00000012048.23_chr17:43124095_A&gt;G_snv_rc | GTTGTCATTTTATAAACCTTTTAAAAAGATATATATATATGTTTTTCTAATGTGTTAAAGTTCACTGGAACAGAAAGAAACGGATTTATCTGCTCTTCGCGTTGAAGAAGTACAAAATGTCATTAATGCTATGCAGAAAATCTTAGAGTGTCCGATCTGGTAAGTCAGCACAAGAGTGTATTAATTTGGGATTCCTATGATTATCTCCTATGCAAATGAACAGAATTGACCTTAC | BRCA1_exon2_CDS |\n",
       "| ENST00000357654.9.ENSG00000012048.23_chr17:43124095_A&gt;C_snv_rc | ENST00000357654.9.ENSG00000012048.23_chr17:43124095_A&gt;C_snv_rc | GTTGTCATTTTATAAACCTTTTAAAAAGATATATATATATGTTTTTCTAATGTGTTAAAGTTCACTGGAACAGAAAGAAAGGGATTTATCTGCTCTTCGCGTTGAAGAAGTACAAAATGTCATTAATGCTATGCAGAAAATCTTAGAGTGTCCGATCTGGTAAGTCAGCACAAGAGTGTATTAATTTGGGATTCCTATGATTATCTCCTATGCAAATGAACAGAATTGACCTTAC | BRCA1_exon2_CDS |\n",
       "\n"
      ],
      "text/plain": [
       "  id                                                            \n",
       "1 ENST00000357654.9.ENSG00000012048.23_chr17:43124096_T>G_snv_rc\n",
       "2 ENST00000357654.9.ENSG00000012048.23_chr17:43124096_T>C_snv_rc\n",
       "3 ENST00000357654.9.ENSG00000012048.23_chr17:43124096_T>A_snv_rc\n",
       "4 ENST00000357654.9.ENSG00000012048.23_chr17:43124095_A>T_snv_rc\n",
       "5 ENST00000357654.9.ENSG00000012048.23_chr17:43124095_A>G_snv_rc\n",
       "6 ENST00000357654.9.ENSG00000012048.23_chr17:43124095_A>C_snv_rc\n",
       "  sgrna_ids                                                     \n",
       "1 ENST00000357654.9.ENSG00000012048.23_chr17:43124096_T>G_snv_rc\n",
       "2 ENST00000357654.9.ENSG00000012048.23_chr17:43124096_T>C_snv_rc\n",
       "3 ENST00000357654.9.ENSG00000012048.23_chr17:43124096_T>A_snv_rc\n",
       "4 ENST00000357654.9.ENSG00000012048.23_chr17:43124095_A>T_snv_rc\n",
       "5 ENST00000357654.9.ENSG00000012048.23_chr17:43124095_A>G_snv_rc\n",
       "6 ENST00000357654.9.ENSG00000012048.23_chr17:43124095_A>C_snv_rc\n",
       "  sgrna_seqs                                                                                                                                                                                                                                 \n",
       "1 GTTGTCATTTTATAAACCTTTTAAAAAGATATATATATATGTTTTTCTAATGTGTTAAAGTTCACTGGAACAGAAAGAACTGGATTTATCTGCTCTTCGCGTTGAAGAAGTACAAAATGTCATTAATGCTATGCAGAAAATCTTAGAGTGTCCGATCTGGTAAGTCAGCACAAGAGTGTATTAATTTGGGATTCCTATGATTATCTCCTATGCAAATGAACAGAATTGACCTTAC\n",
       "2 GTTGTCATTTTATAAACCTTTTAAAAAGATATATATATATGTTTTTCTAATGTGTTAAAGTTCACTGGAACAGAAAGAAGTGGATTTATCTGCTCTTCGCGTTGAAGAAGTACAAAATGTCATTAATGCTATGCAGAAAATCTTAGAGTGTCCGATCTGGTAAGTCAGCACAAGAGTGTATTAATTTGGGATTCCTATGATTATCTCCTATGCAAATGAACAGAATTGACCTTAC\n",
       "3 GTTGTCATTTTATAAACCTTTTAAAAAGATATATATATATGTTTTTCTAATGTGTTAAAGTTCACTGGAACAGAAAGAATTGGATTTATCTGCTCTTCGCGTTGAAGAAGTACAAAATGTCATTAATGCTATGCAGAAAATCTTAGAGTGTCCGATCTGGTAAGTCAGCACAAGAGTGTATTAATTTGGGATTCCTATGATTATCTCCTATGCAAATGAACAGAATTGACCTTAC\n",
       "4 GTTGTCATTTTATAAACCTTTTAAAAAGATATATATATATGTTTTTCTAATGTGTTAAAGTTCACTGGAACAGAAAGAAAAGGATTTATCTGCTCTTCGCGTTGAAGAAGTACAAAATGTCATTAATGCTATGCAGAAAATCTTAGAGTGTCCGATCTGGTAAGTCAGCACAAGAGTGTATTAATTTGGGATTCCTATGATTATCTCCTATGCAAATGAACAGAATTGACCTTAC\n",
       "5 GTTGTCATTTTATAAACCTTTTAAAAAGATATATATATATGTTTTTCTAATGTGTTAAAGTTCACTGGAACAGAAAGAAACGGATTTATCTGCTCTTCGCGTTGAAGAAGTACAAAATGTCATTAATGCTATGCAGAAAATCTTAGAGTGTCCGATCTGGTAAGTCAGCACAAGAGTGTATTAATTTGGGATTCCTATGATTATCTCCTATGCAAATGAACAGAATTGACCTTAC\n",
       "6 GTTGTCATTTTATAAACCTTTTAAAAAGATATATATATATGTTTTTCTAATGTGTTAAAGTTCACTGGAACAGAAAGAAAGGGATTTATCTGCTCTTCGCGTTGAAGAAGTACAAAATGTCATTAATGCTATGCAGAAAATCTTAGAGTGTCCGATCTGGTAAGTCAGCACAAGAGTGTATTAATTTGGGATTCCTATGATTATCTCCTATGCAAATGAACAGAATTGACCTTAC\n",
       "  gene_pair_id   \n",
       "1 BRCA1_exon2_CDS\n",
       "2 BRCA1_exon2_CDS\n",
       "3 BRCA1_exon2_CDS\n",
       "4 BRCA1_exon2_CDS\n",
       "5 BRCA1_exon2_CDS\n",
       "6 BRCA1_exon2_CDS"
      ]
     },
     "metadata": {},
     "output_type": "display_data"
    }
   ],
   "source": [
    "# Pull relevant columns from combined annotations into pyCROQUET format\n",
    "pycroquet_lib <- combined_annotations %>%\n",
    "    select('id' = oligo_name, 'sgrna_ids' = oligo_name, 'sgrna_seqs' = mseq) %>%\n",
    "    mutate('gene_pair_id' = 'BRCA1_exon2_CDS')\n",
    "\n",
    "# Show data frame\n",
    "head(pycroquet_lib)"
   ]
  },
  {
   "cell_type": "code",
   "execution_count": 9,
   "id": "c505f2f8-b3b2-4648-8668-46ef6dfb6ce7",
   "metadata": {},
   "outputs": [],
   "source": [
    "# Set pyCROQUET library file path\n",
    "pycroquet_lib_file <- \"example_input/BRCA1_exon2_pyCROQUET.tsv\"\n",
    "\n",
    "# Write pyCROQUET headers\n",
    "write(paste0(\"##library-type: single\"), file = pycroquet_lib_file)\n",
    "write(paste0(\"##library-name: \", 'BRCA1_exon2_CDS'), file = pycroquet_lib_file, append = TRUE)\n",
    "write(paste(\"#id\", \"sgrna_ids\", \"sgrna_seqs\", \"gene_pair_id\", sep = \"\\t\"), file = pycroquet_lib_file, append = TRUE)\n",
    "\n",
    "# Write oligos \n",
    "for (i in 1:nrow(pycroquet_lib)) {\n",
    "    write(paste(pycroquet_lib$id[i], \n",
    "                pycroquet_lib$sgrna_ids[i], \n",
    "                pycroquet_lib$sgrna_seqs[i], \n",
    "                pycroquet_lib$gene_pair_id[i], \n",
    "                sep = \"\\t\" ), \n",
    "          file = pycroquet_lib_file, append = TRUE)\n",
    "}"
   ]
  }
 ],
 "metadata": {
  "kernelspec": {
   "display_name": "R",
   "language": "R",
   "name": "r"
  },
  "language_info": {
   "codemirror_mode": "r",
   "file_extension": ".r",
   "mimetype": "text/x-r-source",
   "name": "R",
   "pygments_lexer": "r",
   "version": "4.1.2"
  },
  "widgets": {
   "application/vnd.jupyter.widget-state+json": {
    "state": {},
    "version_major": 2,
    "version_minor": 0
   }
  }
 },
 "nbformat": 4,
 "nbformat_minor": 5
}
